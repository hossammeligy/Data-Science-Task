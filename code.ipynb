{
 "cells": [
  {
   "attachments": {},
   "cell_type": "markdown",
   "metadata": {},
   "source": [
    "# Data Prepration"
   ]
  },
  {
   "attachments": {},
   "cell_type": "markdown",
   "metadata": {},
   "source": [
    "*Reading the data and convert them to DFs*"
   ]
  },
  {
   "cell_type": "code",
   "execution_count": 881,
   "metadata": {},
   "outputs": [],
   "source": [
    "import numpy as np\n",
    "import pandas as pd\n",
    "\n",
    "users_df = pd.read_csv('users.csv')\n",
    "restaurants_df = pd.read_csv('restaurants.csv')\n",
    "suppliers_df = pd.read_csv('suppliers.csv')\n",
    "orders_df = pd.read_csv('orders.csv')\n",
    "products_df = pd.read_csv('products.csv')\n",
    "\n",
    "DFs = [users_df,restaurants_df,suppliers_df,orders_df,products_df]\n"
   ]
  },
  {
   "attachments": {},
   "cell_type": "markdown",
   "metadata": {},
   "source": [
    "# Cleaning data"
   ]
  },
  {
   "attachments": {},
   "cell_type": "markdown",
   "metadata": {},
   "source": [
    "**Handling Duplicates**"
   ]
  },
  {
   "cell_type": "code",
   "execution_count": 882,
   "metadata": {},
   "outputs": [],
   "source": [
    "def CheckDuplicates(dfs):\n",
    "    for  i, dfs in enumerate(dfs): \n",
    "        duplicate = dfs.duplicated().sum()\n",
    "        print('The dataset contained {} duplicated rows'.format(duplicate))\n",
    "        if(duplicate > 0):\n",
    "            dfs = dfs.drop_duplicates()"
   ]
  },
  {
   "cell_type": "code",
   "execution_count": 883,
   "metadata": {},
   "outputs": [
    {
     "name": "stdout",
     "output_type": "stream",
     "text": [
      "The dataset contained 0 duplicated rows\n",
      "The dataset contained 0 duplicated rows\n",
      "The dataset contained 0 duplicated rows\n",
      "The dataset contained 0 duplicated rows\n",
      "The dataset contained 0 duplicated rows\n"
     ]
    }
   ],
   "source": [
    "CheckDuplicates(DFs)"
   ]
  },
  {
   "cell_type": "code",
   "execution_count": 884,
   "metadata": {},
   "outputs": [],
   "source": [
    "# Remove duplicates\n",
    "users_df.drop_duplicates(inplace=True)\n",
    "restaurants_df.drop_duplicates(inplace=True)\n",
    "suppliers_df.drop_duplicates(inplace=True)\n",
    "orders_df.drop_duplicates(inplace=True)\n",
    "products_df.drop_duplicates(inplace=True)"
   ]
  },
  {
   "attachments": {},
   "cell_type": "markdown",
   "metadata": {},
   "source": [
    "**Handling Missings**"
   ]
  },
  {
   "attachments": {},
   "cell_type": "markdown",
   "metadata": {},
   "source": [
    "checkMissings Mehtod check the percentage of missings in each DataFrame \n",
    "- if the rows contibute to the datasert is less than 1% then it's safe to drop them."
   ]
  },
  {
   "cell_type": "code",
   "execution_count": 885,
   "metadata": {},
   "outputs": [],
   "source": [
    "def checkMissings(dfs):\n",
    "    for  i, dfs in enumerate(dfs): \n",
    "        columns_with_missing_values = dfs.columns[dfs.isna().any()]\n",
    "        columns_to_drop = dfs[columns_with_missing_values].isna().mean() * 100\n",
    "        columns_to_drop = columns_to_drop[columns_to_drop < 1]\n",
    "        total_rows = dfs[columns_to_drop.index] \\\n",
    "        .isna().any(axis=1).sum()\n",
    "        percentage = (total_rows / dfs.shape[0]) * 100\n",
    "        print('***************')\n",
    "        print(f\"Missing percentage for DataFrame {i}:\")\n",
    "        print('Total number of rows: ', total_rows)\n",
    "        print('These rows contribute to the dataset with {percentage:.2f}%'.format(percentage=percentage))"
   ]
  },
  {
   "cell_type": "code",
   "execution_count": 886,
   "metadata": {},
   "outputs": [
    {
     "name": "stdout",
     "output_type": "stream",
     "text": [
      "***************\n",
      "Missing percentage for DataFrame 0:\n",
      "Total number of rows:  0\n",
      "These rows contribute to the dataset with 0.00%\n",
      "***************\n",
      "Missing percentage for DataFrame 1:\n",
      "Total number of rows:  0\n",
      "These rows contribute to the dataset with 0.00%\n",
      "***************\n",
      "Missing percentage for DataFrame 2:\n",
      "Total number of rows:  0\n",
      "These rows contribute to the dataset with 0.00%\n",
      "***************\n",
      "Missing percentage for DataFrame 3:\n",
      "Total number of rows:  0\n",
      "These rows contribute to the dataset with 0.00%\n",
      "***************\n",
      "Missing percentage for DataFrame 4:\n",
      "Total number of rows:  0\n",
      "These rows contribute to the dataset with 0.00%\n"
     ]
    }
   ],
   "source": [
    "checkMissings(DFs)"
   ]
  },
  {
   "cell_type": "code",
   "execution_count": 887,
   "metadata": {},
   "outputs": [],
   "source": [
    "#Remove rows with missing values\n",
    "users_df.dropna(inplace=True)\n",
    "restaurants_df.dropna(inplace=True)\n",
    "suppliers_df.dropna(inplace=True)\n",
    "orders_df.dropna(inplace=True)\n",
    "products_df.dropna(inplace=True)"
   ]
  },
  {
   "attachments": {},
   "cell_type": "markdown",
   "metadata": {},
   "source": [
    "convert the order_date and delivery_data to Date format"
   ]
  },
  {
   "cell_type": "code",
   "execution_count": 888,
   "metadata": {},
   "outputs": [],
   "source": [
    "orders_df['order_date'] = pd.to_datetime(orders_df['order_date'], format='%d/%m/%Y')\n",
    "orders_df[\"delivery_date\"] = pd.to_datetime(orders_df[\"delivery_date\"], format='%d/%m/%Y')\n",
    "orders_df['order_month'] = orders_df['order_date'].apply(lambda x: x.month)\n",
    "orders_df['order_year'] = orders_df['order_date'].apply(lambda x: x.year)\n"
   ]
  },
  {
   "attachments": {},
   "cell_type": "markdown",
   "metadata": {},
   "source": [
    "Rename columns for consistency\n"
   ]
  },
  {
   "cell_type": "code",
   "execution_count": 889,
   "metadata": {},
   "outputs": [],
   "source": [
    "users_df.rename(columns={\"id\": \"user_id\"}, inplace=True)\n",
    "restaurants_df.rename(columns={\"id\": \"restaurant_id\"}, inplace=True)\n",
    "suppliers_df.rename(columns={\"id\": \"supplier_id\"}, inplace=True)\n",
    "products_df.rename(columns={\"id\": \"product_id\"}, inplace=True)"
   ]
  },
  {
   "attachments": {},
   "cell_type": "markdown",
   "metadata": {},
   "source": [
    "# Features Engineering"
   ]
  },
  {
   "attachments": {},
   "cell_type": "markdown",
   "metadata": {},
   "source": [
    "**Number of orders_df**\n",
    "\n",
    "num_orders_df is the total number of orders_df has been made of a product"
   ]
  },
  {
   "cell_type": "code",
   "execution_count": 890,
   "metadata": {},
   "outputs": [],
   "source": [
    "#Add total number of orders_df of a specfic product\n",
    "num_orders_df = orders_df.groupby('product_id')['order_id'].nunique().reset_index()\n",
    "num_orders_df = num_orders_df.rename(columns={'order_id': 'num_orders_df'}).astype('Int16') #convert it to Integer value not float\n",
    "products_df = products_df.merge(num_orders_df, on='product_id', how='left')\n",
    "\n",
    "products_df['num_orders_df'] = products_df['num_orders_df'].fillna(0) #remove NaNs\n",
    "\n"
   ]
  },
  {
   "attachments": {},
   "cell_type": "markdown",
   "metadata": {},
   "source": [
    "**Product Rating** \n",
    "\n",
    "product_rating is resturant rating for a specfic product it has the value from 1 to 5 this value has been calculated with this assumption:\n",
    "- if the product has not been ordered before the rating will be 0 \n",
    "- if the product has been ordered 1, 2 or 3 times the rating will be between 1:3\n",
    "- if the product has been ordered < 3 then the rating will be 4 or 5 \n",
    "\n",
    "Notice: \n",
    "this is assumption is made by me"
   ]
  },
  {
   "cell_type": "code",
   "execution_count": 891,
   "metadata": {},
   "outputs": [],
   "source": [
    "def assign_product_rating(num_orders_df):\n",
    "    if num_orders_df == 0:\n",
    "        return 0\n",
    "    elif num_orders_df <= 3:\n",
    "        return np.random.choice([1, 2, 3])\n",
    "    else:\n",
    "        return np.random.choice([4, 5])\n",
    "\n",
    "# Add product_rating column to products_df based on num_orders_df\n",
    "products_df['product_rating'] = products_df['num_orders_df'].apply(assign_product_rating)\n",
    "\n",
    "\n"
   ]
  },
  {
   "attachments": {},
   "cell_type": "markdown",
   "metadata": {},
   "source": [
    "**Order for supplier**\n",
    "\n",
    "supplier_num_orders refers to the total number of orders_df requested by resturants from specfic supplier"
   ]
  },
  {
   "cell_type": "code",
   "execution_count": 892,
   "metadata": {},
   "outputs": [
    {
     "data": {
      "image/png": "[encoded data removed]",
      "text/plain": [
       "<Figure size 432x288 with 1 Axes>"
      ]
     },
     "metadata": {},
     "output_type": "display_data"
    }
   ],
   "source": [
    "#Add total number of orders_df of specfic supplier\n",
    "# Group orders_df by supplier and count unique order IDs\n",
    "# Get the total number of orders_df for each supplier\n",
    "num_orders_df = orders_df.merge(products_df, on='product_id', how='left')\n",
    "num_orders_df = num_orders_df.groupby('supplier_id')['order_id'].nunique().reset_index()\n",
    "num_orders_df = num_orders_df.rename(columns={'order_id': 'supplier_num_orders'}).astype('Int16')\n",
    "\n",
    "# Merge with suppliers_df\n",
    "suppliers_df = suppliers_df.merge(num_orders_df, on='supplier_id', how='left').fillna(0)\n",
    "\n",
    "import matplotlib.pyplot as plt\n",
    "\n",
    "# Calculate the percentage of suppliers that made a certain number of orders\n",
    "order_counts = suppliers_df['supplier_num_orders'].value_counts(normalize=True) * 100\n",
    "\n",
    "\n",
    "\n",
    "labels = order_counts.index.astype(str)\n",
    "sizes = order_counts.values\n",
    "fig1, ax1 = plt.subplots()\n",
    "ax1.pie(sizes, labels=labels, autopct='%1.1f%%')\n",
    "ax1.axis('equal')\n",
    "ax1.set_title('Percentage of Suppliers by Number of Orders')\n",
    "plt.show()\n"
   ]
  },
  {
   "attachments": {},
   "cell_type": "markdown",
   "metadata": {},
   "source": [
    "**Delivery performance**\n",
    "\n",
    "delivery_performance calcualtes the performance of every supplier depending on orders_df as following:\n",
    "- if the delivery date - order date  > lead days then the supplier's performance (late) \n",
    "- if the delivery date - order date  < lead days then the supplier's performance (early)\n",
    "- if the delivery date - order date  = lead days then the supplier's performance (on Time)"
   ]
  },
  {
   "cell_type": "code",
   "execution_count": 893,
   "metadata": {},
   "outputs": [
    {
     "data": {
      "image/png": "[encoded data removed]",
      "text/plain": [
       "<Figure size 432x288 with 1 Axes>"
      ]
     },
     "metadata": {},
     "output_type": "display_data"
    }
   ],
   "source": [
    "# Merge orders_df, products_df, and suppliers_df to get the delivery lead time and supplier_id for each order\n",
    "merged_df = pd.merge(orders_df, products_df[['product_id', 'supplier_id', 'delivery_lead_days']], on='product_id')\n",
    "\n",
    "# Calculate the delivery time for each order\n",
    "merged_df['delivery_time'] = (merged_df['delivery_date'] - merged_df['order_date']).dt.days\n",
    "\n",
    "# Calculate the delivery performance for each order\n",
    "merged_df.loc[merged_df['delivery_time'] > merged_df['delivery_lead_days'], 'delivery_performance'] = 1\n",
    "merged_df.loc[merged_df['delivery_time'] == merged_df['delivery_lead_days'], 'delivery_performance'] = 2\n",
    "merged_df.loc[merged_df['delivery_time'] < merged_df['delivery_lead_days'], 'delivery_performance'] = 3\n",
    "\n",
    "# Group the orders_df by supplier_id and calculate the mode of the delivery_performance for each supplier\n",
    "supplier_delivery_performance = merged_df.groupby('supplier_id')['delivery_performance'].apply(lambda x: x.mode()[0]).reset_index(name='delivery_performance').astype('Int16')\n",
    "\n",
    "# Add the delivery performance column to the suppliers_df\n",
    "suppliers_df = suppliers_df.merge(supplier_delivery_performance, on='supplier_id', how='left').fillna(0)\n",
    "\n",
    "\n",
    "order_counts = suppliers_df['delivery_performance'].value_counts(normalize=True) * 100\n",
    "\n",
    "\n",
    "\n",
    "labels = order_counts.index.astype(str)\n",
    "sizes = order_counts.values\n",
    "fig1, ax1 = plt.subplots()\n",
    "ax1.pie(sizes, labels=labels, autopct='%1.1f%%')\n",
    "ax1.axis('equal')\n",
    "ax1.set_title('Percentage of Suppliers by Number of Orders')\n",
    "plt.show()"
   ]
  },
  {
   "attachments": {},
   "cell_type": "markdown",
   "metadata": {},
   "source": [
    "**Supplier Rating**\n",
    "\n",
    "Supplier rating is based on the delivery performance and numbers of orders_df\n",
    "i will made an manual rating as following:\n",
    "- if the supplier made 0 order then rating is 0\n",
    "-----------------------------------\n",
    "- if the supplier made 0 < order < 5 and it normally late then the rating is 1\n",
    "- if the supplier made 0 < order < 5 and it normally on Time then the rating is 1.5\n",
    "- if the supplier made 0 < order < 5 and it normally early then the rating is 2\n",
    "-----------------------------------\n",
    "- if the supplier made 5 <= order < 10 and it normally late then the rating is 2.5\n",
    "- if the supplier made 5 <= order < 10 and it normally on Time then the rating is 3\n",
    "- if the supplier made 0 < order < 5 and it normally early then the rating is 3.5\n",
    "-----------------------------------\n",
    "- if the supplier made 10 <= order and it normally late then the rating is 4\n",
    "- if the supplier made 10 <= order and it normally on Time then the rating is 4.5\n",
    "- if the supplier made 10 <= order  and it normally early then the rating is 5"
   ]
  },
  {
   "cell_type": "code",
   "execution_count": 894,
   "metadata": {},
   "outputs": [
    {
     "data": {
      "image/png": "[encoded data removed]",
      "text/plain": [
       "<Figure size 432x288 with 1 Axes>"
      ]
     },
     "metadata": {},
     "output_type": "display_data"
    },
    {
     "data": {
      "text/plain": [
       "2.125"
      ]
     },
     "execution_count": 894,
     "metadata": {},
     "output_type": "execute_result"
    }
   ],
   "source": [
    "def calculate_supplier_rating(num_orders_df, delivery_performance):\n",
    "    if num_orders_df == 0:\n",
    "        return 0\n",
    "    elif num_orders_df < 5:\n",
    "        if delivery_performance == 1:\n",
    "            return 1\n",
    "        elif delivery_performance == 2:\n",
    "            return 1.5\n",
    "        elif delivery_performance == 3:\n",
    "            return 2\n",
    "    elif num_orders_df < 10:\n",
    "        if delivery_performance == 1:\n",
    "            return 2.5\n",
    "        elif delivery_performance == 2:\n",
    "            return 3\n",
    "        elif delivery_performance == 3:\n",
    "            return 3.5\n",
    "    else:\n",
    "        if delivery_performance == 1:\n",
    "            return 4\n",
    "        elif delivery_performance == 2:\n",
    "            return 4.5\n",
    "        elif delivery_performance == 3:\n",
    "            return 5\n",
    "\n",
    "\n",
    "suppliers_df['supplier_rating'] = suppliers_df.apply(lambda row: calculate_supplier_rating(row['supplier_num_orders'], row['delivery_performance']), axis=1)\n",
    "\n",
    "\n",
    "import matplotlib.pyplot as plt\n",
    "\n",
    "# Count the number of suppliers for each rating\n",
    "supplier_ratings = suppliers_df['supplier_rating'].value_counts().sort_index()\n",
    "\n",
    "# Create a bar chart\n",
    "plt.bar(supplier_ratings.index, supplier_ratings.values)\n",
    "\n",
    "# Set the chart title and axis labels\n",
    "plt.title('Supplier Ratings')\n",
    "plt.xlabel('Rating')\n",
    "plt.ylabel('Number of Suppliers')\n",
    "\n",
    "# Show the chart\n",
    "plt.show()\n",
    "\n",
    "suppliers_df['supplier_rating'].mean()\n"
   ]
  },
  {
   "attachments": {},
   "cell_type": "markdown",
   "metadata": {},
   "source": [
    "Realtionship between the Restaurant Cuisine and the pervious ordered products"
   ]
  },
  {
   "cell_type": "code",
   "execution_count": 895,
   "metadata": {},
   "outputs": [
    {
     "data": {
      "image/png": "[encoded data removed]",
      "text/plain": [
       "<Figure size 470.375x360 with 1 Axes>"
      ]
     },
     "metadata": {},
     "output_type": "display_data"
    }
   ],
   "source": [
    "import pandas as pd\n",
    "import seaborn as sns\n",
    "\n",
    "import matplotlib.pyplot as plt\n",
    "\n",
    "# 1. Merge the three dataframes\n",
    "merged_df = orders_df.merge(products_df, on='product_id')\n",
    "merged_df = merged_df.merge(restaurants_df, on='restaurant_id')\n",
    "\n",
    "# 2. Group the merged dataframe by cuisine and category, and count the number of orders_df for each combination\n",
    "grouped_df = merged_df.groupby(['cuisine', 'product_category']).agg({'order_id': 'count'}).reset_index()\n",
    "\n",
    "# 3. Calculate the total number of orders_df for each cuisine\n",
    "total_orders_df = grouped_df.groupby('cuisine').agg({'order_id': 'sum'}).reset_index().rename(columns={'order_id': 'total_orders_df'})\n",
    "\n",
    "# 4. Merge the grouped dataframe with the total orders_df dataframe to get the percentage of orders_df for each category and cuisine\n",
    "percentage_df = grouped_df.merge(total_orders_df, on='cuisine')\n",
    "percentage_df['percentage'] = percentage_df['order_id'] / percentage_df['total_orders_df'] * 100\n",
    "\n",
    "# 5. Create a separate chart for each cuisine using a bar chart with the category on the x-axis and the percentage on the y-axis\n",
    "sns.catplot(x='product_category', y='percentage', hue='cuisine', kind='bar', data=percentage_df)\n",
    "plt.xlabel('Category')\n",
    "plt.ylabel('Percentage')\n",
    "plt.show()\n",
    "\n",
    "\n"
   ]
  },
  {
   "attachments": {},
   "cell_type": "markdown",
   "metadata": {},
   "source": [
    "Product Season\n"
   ]
  },
  {
   "cell_type": "code",
   "execution_count": 896,
   "metadata": {},
   "outputs": [
    {
     "data": {
      "text/plain": [
       "<AxesSubplot:xlabel='product_category'>"
      ]
     },
     "execution_count": 896,
     "metadata": {},
     "output_type": "execute_result"
    },
    {
     "data": {
      "image/png": "[encoded data removed]",
      "text/plain": [
       "<Figure size 432x288 with 1 Axes>"
      ]
     },
     "metadata": {},
     "output_type": "display_data"
    }
   ],
   "source": [
    "import pandas as pd\n",
    "\n",
    "# Merge orders and products dataframes\n",
    "df = pd.merge(orders_df, products_df, on='product_id')\n",
    "\n",
    "# Create a new column for the order season\n",
    "df['order_season'] = pd.cut(df['order_month'], [0, 3, 6, 9, 12], labels=['Winter', 'Spring', 'Summer', 'Fall'])\n",
    "\n",
    "# Group by product_category and order_season, and count the number of orders\n",
    "category_season_counts = df.groupby(['product_category', 'order_season'])['order_id'].count().reset_index()\n",
    "\n",
    "# Pivot the table so that each category is a column\n",
    "category_season_counts = category_season_counts.pivot(index='product_category', columns='order_season', values='order_id')\n",
    "\n",
    "# Reorder columns so that they are in the desired order\n",
    "category_season_counts = category_season_counts[['Winter', 'Spring', 'Summer', 'Fall']]\n",
    "\n",
    "# Visualize as a bar chart\n",
    "category_season_counts.plot(kind='bar')\n",
    "\n",
    "\n"
   ]
  },
  {
   "attachments": {},
   "cell_type": "markdown",
   "metadata": {},
   "source": [
    "# Training and Testing"
   ]
  },
  {
   "attachments": {},
   "cell_type": "markdown",
   "metadata": {},
   "source": [
    "# ML"
   ]
  },
  {
   "attachments": {},
   "cell_type": "markdown",
   "metadata": {},
   "source": [
    "**Future procurement behavior: How much will a restaurant order from a specific supplier in the upcoming month?**\n"
   ]
  },
  {
   "attachments": {},
   "cell_type": "markdown",
   "metadata": {},
   "source": [
    "**cross validtion for ForestRandom**"
   ]
  },
  {
   "cell_type": "code",
   "execution_count": 897,
   "metadata": {},
   "outputs": [
    {
     "name": "stdout",
     "output_type": "stream",
     "text": [
      "Mean absolute error: 0.3300889079305816\n"
     ]
    }
   ],
   "source": [
    "import pandas as pd\n",
    "from sklearn.ensemble import RandomForestRegressor\n",
    "from sklearn.model_selection import cross_val_score\n",
    "\n",
    "# Merge the dataframes\n",
    "df = pd.merge(orders_df, products_df, on='product_id')\n",
    "df = pd.merge(df, suppliers_df, on='supplier_id')\n",
    "df = pd.merge(df, restaurants_df, on='restaurant_id')\n",
    "\n",
    "# Select features and target variable\n",
    "X = df[['supplier_id', 'restaurant_id']]\n",
    "y = df['quantity']\n",
    "\n",
    "# Train the RandomForestRegressor model using cross-validation\n",
    "model = RandomForestRegressor(n_estimators=50)\n",
    "scores = cross_val_score(model, X, y, cv=5)\n",
    "\n",
    "# Print the mean score and the standard deviation\n",
    "print(\"Mean absolute error:\", -scores.mean())\n"
   ]
  },
  {
   "cell_type": "code",
   "execution_count": 898,
   "metadata": {},
   "outputs": [
    {
     "data": {
      "image/png": "[encoded data removed]",
      "text/plain": [
       "<Figure size 432x288 with 1 Axes>"
      ]
     },
     "metadata": {},
     "output_type": "display_data"
    }
   ],
   "source": [
    "import pandas as pd\n",
    "from sklearn.ensemble import RandomForestRegressor\n",
    "from sklearn.model_selection import train_test_split\n",
    "from sklearn.metrics import mean_absolute_error\n",
    "\n",
    "\n",
    "df = pd.merge(orders_df, products_df, on='product_id')\n",
    "df = pd.merge(df, suppliers_df, on='supplier_id')\n",
    "df = pd.merge(df, restaurants_df, on='restaurant_id')\n",
    "\n",
    "\n",
    "\n",
    "X_train, X_test, y_train, y_test = train_test_split(df[['supplier_id', 'restaurant_id']], df['quantity'], test_size=0.2)\n",
    "errors = []\n",
    "for i in range(1, 100):\n",
    "    model = RandomForestRegressor(n_estimators=i)\n",
    "    model.fit(X_train, y_train)\n",
    "    predictions = model.predict(X_test)\n",
    "    error = mean_absolute_error(predictions, y_test)\n",
    "    errors.append(error)\n",
    "\n",
    "max(errors)\n",
    "fig, ax = plt.subplots()\n",
    "ax.scatter(y_test, predictions, alpha=0.5)\n",
    "ax.plot([y_test.min(), y_test.max()], [y_test.min(), y_test.max()], 'k--', lw=4)\n",
    "ax.set_xlabel('Actual')\n",
    "ax.set_ylabel('Predicted')\n",
    "plt.show()\n",
    "\n"
   ]
  },
  {
   "cell_type": "code",
   "execution_count": 899,
   "metadata": {},
   "outputs": [
    {
     "data": {
      "text/plain": [
       "[<matplotlib.lines.Line2D at 0x7f9369ccadf0>]"
      ]
     },
     "execution_count": 899,
     "metadata": {},
     "output_type": "execute_result"
    },
    {
     "data": {
      "image/png": "[encoded data removed]",
      "text/plain": [
       "<Figure size 432x288 with 1 Axes>"
      ]
     },
     "metadata": {},
     "output_type": "display_data"
    }
   ],
   "source": [
    "import matplotlib.pyplot as plt\n",
    "plt.plot(errors)"
   ]
  },
  {
   "cell_type": "code",
   "execution_count": 900,
   "metadata": {},
   "outputs": [],
   "source": [
    "\n",
    "def get_predction_Q1(rest_id, supp_id):\n",
    "    rest_name = restaurants_df.loc[restaurants_df['restaurant_id'] == rest_id, 'restaurant_name'].values[0]\n",
    "    supp_name = suppliers_df.loc[suppliers_df['supplier_id'] == supp_id, 'supplier_name'].values[0]\n",
    "    prediction = model.predict(np.array([[rest_id, supp_id]]))\n",
    "\n",
    "    return rest_name, supp_name , prediction\n",
    "\n",
    "\n"
   ]
  },
  {
   "cell_type": "code",
   "execution_count": 901,
   "metadata": {},
   "outputs": [
    {
     "name": "stderr",
     "output_type": "stream",
     "text": [
      "/Users/macbook/opt/anaconda3/lib/python3.9/site-packages/sklearn/base.py:450: UserWarning: X does not have valid feature names, but RandomForestRegressor was fitted with feature names\n",
      "  warnings.warn(\n"
     ]
    },
    {
     "data": {
      "text/plain": [
       "('Gigashots', 'Thoughtmix', array([40.28282828]))"
      ]
     },
     "execution_count": 901,
     "metadata": {},
     "output_type": "execute_result"
    }
   ],
   "source": [
    "get_predction_Q1(1,2)"
   ]
  },
  {
   "cell_type": "code",
   "execution_count": null,
   "metadata": {},
   "outputs": [],
   "source": []
  },
  {
   "attachments": {},
   "cell_type": "markdown",
   "metadata": {},
   "source": [
    "**Supplier performance: How likely is a supplier to meet the expected delivery time for an order?**"
   ]
  },
  {
   "attachments": {},
   "cell_type": "markdown",
   "metadata": {},
   "source": [
    "DecisionTreeRegressor"
   ]
  },
  {
   "cell_type": "code",
   "execution_count": 902,
   "metadata": {},
   "outputs": [
    {
     "name": "stdout",
     "output_type": "stream",
     "text": [
      "MAE 0.0\n"
     ]
    },
    {
     "name": "stderr",
     "output_type": "stream",
     "text": [
      "/Users/macbook/opt/anaconda3/lib/python3.9/site-packages/sklearn/metrics/_regression.py:96: FutureWarning: Arrays of bytes/strings is being converted to decimal numbers if dtype='numeric'. This behavior is deprecated in 0.24 and will be removed in 1.1 (renaming of 0.26). Please convert your data to numeric values explicitly instead.\n",
      "  y_pred = check_array(y_pred, ensure_2d=False, dtype=dtype)\n"
     ]
    },
    {
     "data": {
      "image/png": "[encoded data removed]",
      "text/plain": [
       "<Figure size 432x288 with 1 Axes>"
      ]
     },
     "metadata": {},
     "output_type": "display_data"
    }
   ],
   "source": [
    "import pandas as pd\n",
    "import numpy as np\n",
    "from sklearn.tree import DecisionTreeRegressor\n",
    "from sklearn.model_selection import train_test_split\n",
    "from sklearn.metrics import r2_score\n",
    "\n",
    "df = pd.merge(orders_df, products_df, on='product_id')\n",
    "df = pd.merge(df, suppliers_df, on='supplier_id')\n",
    "df.drop('phone', axis=1, inplace=True) # inplace=True to modify the dataframe in place\n",
    "\n",
    "X_train, X_test, y_train, y_test = train_test_split(df[['supplier_id', 'supplier_num_orders', 'supplier_rating']],\n",
    "                                                     df['delivery_performance'], test_size=0.2)\n",
    "\n",
    "\n",
    "model = DecisionTreeRegressor()\n",
    "model.fit(X_train, y_train)\n",
    "predictions = model.predict(X_test)\n",
    "predictions = predictions.astype(float)\n",
    "error = mean_absolute_error(predictions, y_test) # using R2 instead of MAE\n",
    "\n",
    "print('MAE',error)\n",
    "\n",
    "plt.hist(predictions, bins=10, alpha=0.5)\n",
    "plt.xlabel('Predicted values')\n",
    "plt.ylabel('Frequency')\n",
    "plt.title('Distribution of Predicted Values')\n",
    "plt.show()\n",
    "\n",
    "\n"
   ]
  },
  {
   "cell_type": "code",
   "execution_count": 903,
   "metadata": {},
   "outputs": [
    {
     "name": "stdout",
     "output_type": "stream",
     "text": [
      "[3.]\n"
     ]
    },
    {
     "name": "stderr",
     "output_type": "stream",
     "text": [
      "/Users/macbook/opt/anaconda3/lib/python3.9/site-packages/sklearn/base.py:450: UserWarning: X does not have valid feature names, but DecisionTreeRegressor was fitted with feature names\n",
      "  warnings.warn(\n"
     ]
    }
   ],
   "source": [
    "def getExpectedDevliveryTime(supp_id, suppliers_df):\n",
    "    supplier_info = suppliers_df.loc[suppliers_df['supplier_id'] == supp_id, ['supplier_num_orders', 'supplier_rating']]\n",
    "    supplier_num_orders = supplier_info.iloc[0]['supplier_num_orders']\n",
    "    supplier_rating = supplier_info.iloc[0]['supplier_rating']\n",
    "    predict = model.predict(np.array([[supp_id,supplier_num_orders,supplier_rating]]))\n",
    "    print(predict)\n",
    "\n",
    "getExpectedDevliveryTime(1,suppliers_df)\n",
    "\n",
    "\n"
   ]
  },
  {
   "attachments": {},
   "cell_type": "markdown",
   "metadata": {},
   "source": [
    "RandomForestRegressor"
   ]
  },
  {
   "cell_type": "code",
   "execution_count": 904,
   "metadata": {},
   "outputs": [
    {
     "name": "stderr",
     "output_type": "stream",
     "text": [
      "/Users/macbook/opt/anaconda3/lib/python3.9/site-packages/sklearn/metrics/_regression.py:96: FutureWarning: Arrays of bytes/strings is being converted to decimal numbers if dtype='numeric'. This behavior is deprecated in 0.24 and will be removed in 1.1 (renaming of 0.26). Please convert your data to numeric values explicitly instead.\n",
      "  y_pred = check_array(y_pred, ensure_2d=False, dtype=dtype)\n"
     ]
    },
    {
     "name": "stdout",
     "output_type": "stream",
     "text": [
      "0.051234567901234575\n"
     ]
    },
    {
     "name": "stderr",
     "output_type": "stream",
     "text": [
      "/Users/macbook/opt/anaconda3/lib/python3.9/site-packages/sklearn/metrics/_regression.py:96: FutureWarning: Arrays of bytes/strings is being converted to decimal numbers if dtype='numeric'. This behavior is deprecated in 0.24 and will be removed in 1.1 (renaming of 0.26). Please convert your data to numeric values explicitly instead.\n",
      "  y_pred = check_array(y_pred, ensure_2d=False, dtype=dtype)\n",
      "/Users/macbook/opt/anaconda3/lib/python3.9/site-packages/sklearn/metrics/_regression.py:96: FutureWarning: Arrays of bytes/strings is being converted to decimal numbers if dtype='numeric'. This behavior is deprecated in 0.24 and will be removed in 1.1 (renaming of 0.26). Please convert your data to numeric values explicitly instead.\n",
      "  y_pred = check_array(y_pred, ensure_2d=False, dtype=dtype)\n",
      "/Users/macbook/opt/anaconda3/lib/python3.9/site-packages/sklearn/metrics/_regression.py:96: FutureWarning: Arrays of bytes/strings is being converted to decimal numbers if dtype='numeric'. This behavior is deprecated in 0.24 and will be removed in 1.1 (renaming of 0.26). Please convert your data to numeric values explicitly instead.\n",
      "  y_pred = check_array(y_pred, ensure_2d=False, dtype=dtype)\n",
      "/Users/macbook/opt/anaconda3/lib/python3.9/site-packages/sklearn/metrics/_regression.py:96: FutureWarning: Arrays of bytes/strings is being converted to decimal numbers if dtype='numeric'. This behavior is deprecated in 0.24 and will be removed in 1.1 (renaming of 0.26). Please convert your data to numeric values explicitly instead.\n",
      "  y_pred = check_array(y_pred, ensure_2d=False, dtype=dtype)\n",
      "/Users/macbook/opt/anaconda3/lib/python3.9/site-packages/sklearn/metrics/_regression.py:96: FutureWarning: Arrays of bytes/strings is being converted to decimal numbers if dtype='numeric'. This behavior is deprecated in 0.24 and will be removed in 1.1 (renaming of 0.26). Please convert your data to numeric values explicitly instead.\n",
      "  y_pred = check_array(y_pred, ensure_2d=False, dtype=dtype)\n",
      "/Users/macbook/opt/anaconda3/lib/python3.9/site-packages/sklearn/metrics/_regression.py:96: FutureWarning: Arrays of bytes/strings is being converted to decimal numbers if dtype='numeric'. This behavior is deprecated in 0.24 and will be removed in 1.1 (renaming of 0.26). Please convert your data to numeric values explicitly instead.\n",
      "  y_pred = check_array(y_pred, ensure_2d=False, dtype=dtype)\n",
      "/Users/macbook/opt/anaconda3/lib/python3.9/site-packages/sklearn/metrics/_regression.py:96: FutureWarning: Arrays of bytes/strings is being converted to decimal numbers if dtype='numeric'. This behavior is deprecated in 0.24 and will be removed in 1.1 (renaming of 0.26). Please convert your data to numeric values explicitly instead.\n",
      "  y_pred = check_array(y_pred, ensure_2d=False, dtype=dtype)\n",
      "/Users/macbook/opt/anaconda3/lib/python3.9/site-packages/sklearn/metrics/_regression.py:96: FutureWarning: Arrays of bytes/strings is being converted to decimal numbers if dtype='numeric'. This behavior is deprecated in 0.24 and will be removed in 1.1 (renaming of 0.26). Please convert your data to numeric values explicitly instead.\n",
      "  y_pred = check_array(y_pred, ensure_2d=False, dtype=dtype)\n"
     ]
    },
    {
     "data": {
      "text/plain": [
       "[<matplotlib.lines.Line2D at 0x7f9369d1b1c0>]"
      ]
     },
     "execution_count": 904,
     "metadata": {},
     "output_type": "execute_result"
    },
    {
     "data": {
      "image/png": "[encoded data removed]",
      "text/plain": [
       "<Figure size 432x288 with 1 Axes>"
      ]
     },
     "metadata": {},
     "output_type": "display_data"
    }
   ],
   "source": [
    "import pandas as pd\n",
    "from sklearn.ensemble import RandomForestRegressor\n",
    "from sklearn.model_selection import train_test_split\n",
    "from sklearn.metrics import mean_squared_error\n",
    "\n",
    "df = pd.merge(orders_df, products_df, on='product_id')\n",
    "df = pd.merge(df, suppliers_df, on='supplier_id')\n",
    "df.drop('phone', axis=1, inplace=True) # inplace=True to modify the dataframe in place\n",
    "\n",
    "X_train, X_test, y_train, y_test = train_test_split(df[['supplier_id', 'supplier_num_orders', 'supplier_rating', 'delivery_lead_days']],\n",
    "                                                     df['delivery_performance'], test_size=0.2)\n",
    "\n",
    "errors = []\n",
    "for i in range(1, 10):\n",
    "    model = RandomForestRegressor(n_estimators=i)\n",
    "    model.fit(X_train, y_train)\n",
    "    predictions = model.predict(X_test)\n",
    "    error = mean_squared_error(predictions, y_test) # using MSE instead of R2\n",
    "    errors.append(error)\n",
    "\n",
    "print(min(errors))\n",
    "import matplotlib.pyplot as plt\n",
    "plt.plot(errors)\n",
    "\n",
    "\n"
   ]
  },
  {
   "attachments": {},
   "cell_type": "markdown",
   "metadata": {},
   "source": [
    "**Product recommendation: Which products should be recommended to a restaurant based on their procurement history and preferences?**"
   ]
  },
  {
   "attachments": {},
   "cell_type": "markdown",
   "metadata": {},
   "source": [
    "Prepare the data"
   ]
  },
  {
   "cell_type": "code",
   "execution_count": 921,
   "metadata": {},
   "outputs": [
    {
     "name": "stdout",
     "output_type": "stream",
     "text": [
      "Accuracy scores: [0.15 0.3  0.1  0.2  0.05]\n",
      "Mean accuracy score: 0.16\n"
     ]
    },
    {
     "name": "stderr",
     "output_type": "stream",
     "text": [
      "/Users/macbook/opt/anaconda3/lib/python3.9/site-packages/sklearn/model_selection/_split.py:676: UserWarning: The least populated class in y has only 1 members, which is less than n_splits=5.\n",
      "  warnings.warn(\n",
      "/Users/macbook/opt/anaconda3/lib/python3.9/site-packages/sklearn/linear_model/_logistic.py:814: ConvergenceWarning: lbfgs failed to converge (status=1):\n",
      "STOP: TOTAL NO. of ITERATIONS REACHED LIMIT.\n",
      "\n",
      "Increase the number of iterations (max_iter) or scale the data as shown in:\n",
      "    https://scikit-learn.org/stable/modules/preprocessing.html\n",
      "Please also refer to the documentation for alternative solver options:\n",
      "    https://scikit-learn.org/stable/modules/linear_model.html#logistic-regression\n",
      "  n_iter_i = _check_optimize_result(\n",
      "/Users/macbook/opt/anaconda3/lib/python3.9/site-packages/sklearn/linear_model/_logistic.py:814: ConvergenceWarning: lbfgs failed to converge (status=1):\n",
      "STOP: TOTAL NO. of ITERATIONS REACHED LIMIT.\n",
      "\n",
      "Increase the number of iterations (max_iter) or scale the data as shown in:\n",
      "    https://scikit-learn.org/stable/modules/preprocessing.html\n",
      "Please also refer to the documentation for alternative solver options:\n",
      "    https://scikit-learn.org/stable/modules/linear_model.html#logistic-regression\n",
      "  n_iter_i = _check_optimize_result(\n",
      "/Users/macbook/opt/anaconda3/lib/python3.9/site-packages/sklearn/linear_model/_logistic.py:814: ConvergenceWarning: lbfgs failed to converge (status=1):\n",
      "STOP: TOTAL NO. of ITERATIONS REACHED LIMIT.\n",
      "\n",
      "Increase the number of iterations (max_iter) or scale the data as shown in:\n",
      "    https://scikit-learn.org/stable/modules/preprocessing.html\n",
      "Please also refer to the documentation for alternative solver options:\n",
      "    https://scikit-learn.org/stable/modules/linear_model.html#logistic-regression\n",
      "  n_iter_i = _check_optimize_result(\n",
      "/Users/macbook/opt/anaconda3/lib/python3.9/site-packages/sklearn/linear_model/_logistic.py:814: ConvergenceWarning: lbfgs failed to converge (status=1):\n",
      "STOP: TOTAL NO. of ITERATIONS REACHED LIMIT.\n",
      "\n",
      "Increase the number of iterations (max_iter) or scale the data as shown in:\n",
      "    https://scikit-learn.org/stable/modules/preprocessing.html\n",
      "Please also refer to the documentation for alternative solver options:\n",
      "    https://scikit-learn.org/stable/modules/linear_model.html#logistic-regression\n",
      "  n_iter_i = _check_optimize_result(\n",
      "/Users/macbook/opt/anaconda3/lib/python3.9/site-packages/sklearn/linear_model/_logistic.py:814: ConvergenceWarning: lbfgs failed to converge (status=1):\n",
      "STOP: TOTAL NO. of ITERATIONS REACHED LIMIT.\n",
      "\n",
      "Increase the number of iterations (max_iter) or scale the data as shown in:\n",
      "    https://scikit-learn.org/stable/modules/preprocessing.html\n",
      "Please also refer to the documentation for alternative solver options:\n",
      "    https://scikit-learn.org/stable/modules/linear_model.html#logistic-regression\n",
      "  n_iter_i = _check_optimize_result(\n"
     ]
    }
   ],
   "source": [
    "import pandas as pd\n",
    "from sklearn.linear_model import LogisticRegression\n",
    "from sklearn.model_selection import cross_val_score\n",
    "from sklearn.preprocessing import LabelEncoder\n",
    "\n",
    "df = pd.merge(orders_df, restaurants_df, on='restaurant_id')\n",
    "df = pd.merge(df, products_df, on='product_id')\n",
    "\n",
    "df.drop(['manager_id', 'phone_number', 'address', 'created_on', 'product_unit', 'state'], axis=1, inplace=True)\n",
    "\n",
    "# Encode categorical variables\n",
    "le = LabelEncoder()\n",
    "df['product_category'] = le.fit_transform(df['product_category'])\n",
    "df['cuisine'] = le.fit_transform(df['cuisine'])\n",
    "df['price_range'] = le.fit_transform(df['price_range'])\n",
    "\n",
    "# Prepare the data for cross-validation\n",
    "X = df[['cuisine', 'product_rating', 'restaurant_id', 'product_id']]\n",
    "y = df['product_name']\n",
    "\n",
    "# Train the logistic regression model using cross-validation\n",
    "logreg = LogisticRegression()\n",
    "scores = cross_val_score(logreg, X, y, cv=5)\n",
    "\n",
    "# Print the accuracy scores for each fold and the mean score\n",
    "print(\"Accuracy scores:\", scores)\n",
    "print(\"Mean accuracy score:\", scores.mean())\n"
   ]
  },
  {
   "attachments": {},
   "cell_type": "markdown",
   "metadata": {},
   "source": [
    "Cross-Validation for LogisticRegression"
   ]
  },
  {
   "cell_type": "code",
   "execution_count": 916,
   "metadata": {},
   "outputs": [
    {
     "name": "stdout",
     "output_type": "stream",
     "text": [
      "Accuracy scores: [0.45 0.5  0.25 0.35 0.3 ]\n",
      "Mean accuracy score: 37.0 %\n"
     ]
    },
    {
     "name": "stderr",
     "output_type": "stream",
     "text": [
      "/Users/macbook/opt/anaconda3/lib/python3.9/site-packages/sklearn/model_selection/_split.py:676: UserWarning: The least populated class in y has only 1 members, which is less than n_splits=5.\n",
      "  warnings.warn(\n",
      "/Users/macbook/opt/anaconda3/lib/python3.9/site-packages/sklearn/linear_model/_logistic.py:814: ConvergenceWarning: lbfgs failed to converge (status=1):\n",
      "STOP: TOTAL NO. of ITERATIONS REACHED LIMIT.\n",
      "\n",
      "Increase the number of iterations (max_iter) or scale the data as shown in:\n",
      "    https://scikit-learn.org/stable/modules/preprocessing.html\n",
      "Please also refer to the documentation for alternative solver options:\n",
      "    https://scikit-learn.org/stable/modules/linear_model.html#logistic-regression\n",
      "  n_iter_i = _check_optimize_result(\n",
      "/Users/macbook/opt/anaconda3/lib/python3.9/site-packages/sklearn/linear_model/_logistic.py:814: ConvergenceWarning: lbfgs failed to converge (status=1):\n",
      "STOP: TOTAL NO. of ITERATIONS REACHED LIMIT.\n",
      "\n",
      "Increase the number of iterations (max_iter) or scale the data as shown in:\n",
      "    https://scikit-learn.org/stable/modules/preprocessing.html\n",
      "Please also refer to the documentation for alternative solver options:\n",
      "    https://scikit-learn.org/stable/modules/linear_model.html#logistic-regression\n",
      "  n_iter_i = _check_optimize_result(\n",
      "/Users/macbook/opt/anaconda3/lib/python3.9/site-packages/sklearn/linear_model/_logistic.py:814: ConvergenceWarning: lbfgs failed to converge (status=1):\n",
      "STOP: TOTAL NO. of ITERATIONS REACHED LIMIT.\n",
      "\n",
      "Increase the number of iterations (max_iter) or scale the data as shown in:\n",
      "    https://scikit-learn.org/stable/modules/preprocessing.html\n",
      "Please also refer to the documentation for alternative solver options:\n",
      "    https://scikit-learn.org/stable/modules/linear_model.html#logistic-regression\n",
      "  n_iter_i = _check_optimize_result(\n",
      "/Users/macbook/opt/anaconda3/lib/python3.9/site-packages/sklearn/linear_model/_logistic.py:814: ConvergenceWarning: lbfgs failed to converge (status=1):\n",
      "STOP: TOTAL NO. of ITERATIONS REACHED LIMIT.\n",
      "\n",
      "Increase the number of iterations (max_iter) or scale the data as shown in:\n",
      "    https://scikit-learn.org/stable/modules/preprocessing.html\n",
      "Please also refer to the documentation for alternative solver options:\n",
      "    https://scikit-learn.org/stable/modules/linear_model.html#logistic-regression\n",
      "  n_iter_i = _check_optimize_result(\n",
      "/Users/macbook/opt/anaconda3/lib/python3.9/site-packages/sklearn/linear_model/_logistic.py:814: ConvergenceWarning: lbfgs failed to converge (status=1):\n",
      "STOP: TOTAL NO. of ITERATIONS REACHED LIMIT.\n",
      "\n",
      "Increase the number of iterations (max_iter) or scale the data as shown in:\n",
      "    https://scikit-learn.org/stable/modules/preprocessing.html\n",
      "Please also refer to the documentation for alternative solver options:\n",
      "    https://scikit-learn.org/stable/modules/linear_model.html#logistic-regression\n",
      "  n_iter_i = _check_optimize_result(\n"
     ]
    }
   ],
   "source": [
    "from sklearn.linear_model import LogisticRegression\n",
    "from sklearn.model_selection import cross_val_score\n",
    "\n",
    "\n",
    "\n",
    "# Train the logistic regression model using cross-validation\n",
    "logreg = LogisticRegression()\n",
    "scores = cross_val_score(logreg, X, y, cv=5)\n",
    "\n",
    "# Print the accuracy scores for each fold and the mean score\n",
    "print(\"Accuracy scores:\", scores)\n",
    "print(\"Mean accuracy score:\", scores.mean()*100,\"%\")"
   ]
  },
  {
   "attachments": {},
   "cell_type": "markdown",
   "metadata": {},
   "source": [
    "Cross-Validation for KNN"
   ]
  },
  {
   "cell_type": "code",
   "execution_count": 917,
   "metadata": {},
   "outputs": [
    {
     "name": "stdout",
     "output_type": "stream",
     "text": [
      "Accuracy scores: [0.25 0.4  0.15 0.3  0.2 ]\n",
      "Mean accuracy score: 26.0 %\n"
     ]
    },
    {
     "name": "stderr",
     "output_type": "stream",
     "text": [
      "/Users/macbook/opt/anaconda3/lib/python3.9/site-packages/sklearn/model_selection/_split.py:676: UserWarning: The least populated class in y has only 1 members, which is less than n_splits=5.\n",
      "  warnings.warn(\n"
     ]
    }
   ],
   "source": [
    "from sklearn.neighbors import KNeighborsClassifier\n",
    "from sklearn.model_selection import cross_val_score\n",
    "\n",
    "knn = KNeighborsClassifier()\n",
    "scores = cross_val_score(knn, X, y, cv=5)\n",
    "\n",
    "# Print the accuracy scores for each fold and the mean score\n",
    "print(\"Accuracy scores:\", scores)\n",
    "print(\"Mean accuracy score:\", scores.mean()*100,\"%\")"
   ]
  },
  {
   "attachments": {},
   "cell_type": "markdown",
   "metadata": {},
   "source": [
    "Cross-Validation for RandomForestCalssifier"
   ]
  },
  {
   "cell_type": "code",
   "execution_count": 922,
   "metadata": {},
   "outputs": [
    {
     "name": "stderr",
     "output_type": "stream",
     "text": [
      "/Users/macbook/opt/anaconda3/lib/python3.9/site-packages/sklearn/model_selection/_split.py:676: UserWarning: The least populated class in y has only 1 members, which is less than n_splits=5.\n",
      "  warnings.warn(\n"
     ]
    },
    {
     "name": "stdout",
     "output_type": "stream",
     "text": [
      "Cross-validation scores: [0.75 0.65 0.65 0.55 0.6 ]\n",
      "Mean accuracy score: 63.99999999999999 %\n"
     ]
    }
   ],
   "source": [
    "from sklearn.ensemble import RandomForestClassifier\n",
    "from sklearn.model_selection import cross_val_score\n",
    "\n",
    "# Train the random forest classifier using 5-fold cross-validation\n",
    "rf = RandomForestClassifier()\n",
    "scores = cross_val_score(rf, X, y, cv=5)\n",
    "\n",
    "# Print the cross-validation scores and the mean score\n",
    "print(\"Cross-validation scores:\", scores)\n",
    "print(\"Mean accuracy score:\", scores.mean()*100,\"%\")"
   ]
  },
  {
   "attachments": {},
   "cell_type": "markdown",
   "metadata": {},
   "source": [
    "Using RandomForesetCalssifier"
   ]
  },
  {
   "cell_type": "code",
   "execution_count": 924,
   "metadata": {},
   "outputs": [
    {
     "data": {
      "text/html": [
       "<div>\n",
       "<style scoped>\n",
       "    .dataframe tbody tr th:only-of-type {\n",
       "        vertical-align: middle;\n",
       "    }\n",
       "\n",
       "    .dataframe tbody tr th {\n",
       "        vertical-align: top;\n",
       "    }\n",
       "\n",
       "    .dataframe thead th {\n",
       "        text-align: right;\n",
       "    }\n",
       "</style>\n",
       "<table border=\"1\" class=\"dataframe\">\n",
       "  <thead>\n",
       "    <tr style=\"text-align: right;\">\n",
       "      <th></th>\n",
       "      <th>cuisine</th>\n",
       "      <th>product_rating</th>\n",
       "      <th>restaurant_id</th>\n",
       "      <th>product_id</th>\n",
       "    </tr>\n",
       "  </thead>\n",
       "  <tbody>\n",
       "    <tr>\n",
       "      <th>28</th>\n",
       "      <td>0</td>\n",
       "      <td>4</td>\n",
       "      <td>18</td>\n",
       "      <td>21</td>\n",
       "    </tr>\n",
       "    <tr>\n",
       "      <th>98</th>\n",
       "      <td>0</td>\n",
       "      <td>3</td>\n",
       "      <td>3</td>\n",
       "      <td>8</td>\n",
       "    </tr>\n",
       "    <tr>\n",
       "      <th>49</th>\n",
       "      <td>1</td>\n",
       "      <td>5</td>\n",
       "      <td>7</td>\n",
       "      <td>1</td>\n",
       "    </tr>\n",
       "    <tr>\n",
       "      <th>8</th>\n",
       "      <td>1</td>\n",
       "      <td>4</td>\n",
       "      <td>5</td>\n",
       "      <td>43</td>\n",
       "    </tr>\n",
       "    <tr>\n",
       "      <th>82</th>\n",
       "      <td>1</td>\n",
       "      <td>2</td>\n",
       "      <td>11</td>\n",
       "      <td>50</td>\n",
       "    </tr>\n",
       "    <tr>\n",
       "      <th>81</th>\n",
       "      <td>0</td>\n",
       "      <td>2</td>\n",
       "      <td>8</td>\n",
       "      <td>50</td>\n",
       "    </tr>\n",
       "    <tr>\n",
       "      <th>6</th>\n",
       "      <td>1</td>\n",
       "      <td>4</td>\n",
       "      <td>26</td>\n",
       "      <td>7</td>\n",
       "    </tr>\n",
       "    <tr>\n",
       "      <th>64</th>\n",
       "      <td>0</td>\n",
       "      <td>4</td>\n",
       "      <td>24</td>\n",
       "      <td>18</td>\n",
       "    </tr>\n",
       "    <tr>\n",
       "      <th>92</th>\n",
       "      <td>1</td>\n",
       "      <td>1</td>\n",
       "      <td>19</td>\n",
       "      <td>2</td>\n",
       "    </tr>\n",
       "    <tr>\n",
       "      <th>69</th>\n",
       "      <td>0</td>\n",
       "      <td>4</td>\n",
       "      <td>12</td>\n",
       "      <td>37</td>\n",
       "    </tr>\n",
       "    <tr>\n",
       "      <th>7</th>\n",
       "      <td>1</td>\n",
       "      <td>4</td>\n",
       "      <td>5</td>\n",
       "      <td>43</td>\n",
       "    </tr>\n",
       "    <tr>\n",
       "      <th>86</th>\n",
       "      <td>1</td>\n",
       "      <td>2</td>\n",
       "      <td>20</td>\n",
       "      <td>12</td>\n",
       "    </tr>\n",
       "    <tr>\n",
       "      <th>20</th>\n",
       "      <td>1</td>\n",
       "      <td>5</td>\n",
       "      <td>29</td>\n",
       "      <td>44</td>\n",
       "    </tr>\n",
       "    <tr>\n",
       "      <th>37</th>\n",
       "      <td>2</td>\n",
       "      <td>3</td>\n",
       "      <td>10</td>\n",
       "      <td>20</td>\n",
       "    </tr>\n",
       "    <tr>\n",
       "      <th>50</th>\n",
       "      <td>2</td>\n",
       "      <td>2</td>\n",
       "      <td>28</td>\n",
       "      <td>48</td>\n",
       "    </tr>\n",
       "    <tr>\n",
       "      <th>38</th>\n",
       "      <td>0</td>\n",
       "      <td>2</td>\n",
       "      <td>16</td>\n",
       "      <td>31</td>\n",
       "    </tr>\n",
       "    <tr>\n",
       "      <th>19</th>\n",
       "      <td>1</td>\n",
       "      <td>5</td>\n",
       "      <td>19</td>\n",
       "      <td>44</td>\n",
       "    </tr>\n",
       "    <tr>\n",
       "      <th>9</th>\n",
       "      <td>2</td>\n",
       "      <td>4</td>\n",
       "      <td>28</td>\n",
       "      <td>43</td>\n",
       "    </tr>\n",
       "    <tr>\n",
       "      <th>97</th>\n",
       "      <td>1</td>\n",
       "      <td>1</td>\n",
       "      <td>2</td>\n",
       "      <td>49</td>\n",
       "    </tr>\n",
       "    <tr>\n",
       "      <th>66</th>\n",
       "      <td>0</td>\n",
       "      <td>4</td>\n",
       "      <td>4</td>\n",
       "      <td>18</td>\n",
       "    </tr>\n",
       "  </tbody>\n",
       "</table>\n",
       "</div>"
      ],
      "text/plain": [
       "    cuisine  product_rating  restaurant_id  product_id\n",
       "28        0               4             18          21\n",
       "98        0               3              3           8\n",
       "49        1               5              7           1\n",
       "8         1               4              5          43\n",
       "82        1               2             11          50\n",
       "81        0               2              8          50\n",
       "6         1               4             26           7\n",
       "64        0               4             24          18\n",
       "92        1               1             19           2\n",
       "69        0               4             12          37\n",
       "7         1               4              5          43\n",
       "86        1               2             20          12\n",
       "20        1               5             29          44\n",
       "37        2               3             10          20\n",
       "50        2               2             28          48\n",
       "38        0               2             16          31\n",
       "19        1               5             19          44\n",
       "9         2               4             28          43\n",
       "97        1               1              2          49\n",
       "66        0               4              4          18"
      ]
     },
     "execution_count": 924,
     "metadata": {},
     "output_type": "execute_result"
    }
   ],
   "source": [
    "X_test"
   ]
  },
  {
   "cell_type": "code",
   "execution_count": 926,
   "metadata": {},
   "outputs": [
    {
     "name": "stdout",
     "output_type": "stream",
     "text": [
      "Accuracy: 55.00000000000001%\n"
     ]
    },
    {
     "name": "stderr",
     "output_type": "stream",
     "text": [
      "/Users/macbook/opt/anaconda3/lib/python3.9/site-packages/sklearn/base.py:450: UserWarning: X does not have valid feature names, but RandomForestRegressor was fitted with feature names\n",
      "  warnings.warn(\n"
     ]
    },
    {
     "ename": "ValueError",
     "evalue": "could not convert string to float: 'Spoon - Soup, Plastic'",
     "output_type": "error",
     "traceback": [
      "\u001b[0;31m---------------------------------------------------------------------------\u001b[0m",
      "\u001b[0;31mValueError\u001b[0m                                Traceback (most recent call last)",
      "\u001b[1;32m/Users/macbook/Downloads/DS Task/code.ipynb Cell 60\u001b[0m in \u001b[0;36m<cell line: 15>\u001b[0;34m()\u001b[0m\n\u001b[1;32m     <a href='vscode-notebook-cell:/Users/macbook/Downloads/DS%20Task/code.ipynb#Y233sZmlsZQ%3D%3D?line=11'>12</a>\u001b[0m accuracy \u001b[39m=\u001b[39m rf\u001b[39m.\u001b[39mscore(X_test, y_test)\n\u001b[1;32m     <a href='vscode-notebook-cell:/Users/macbook/Downloads/DS%20Task/code.ipynb#Y233sZmlsZQ%3D%3D?line=12'>13</a>\u001b[0m \u001b[39mprint\u001b[39m(\u001b[39mf\u001b[39m\u001b[39m\"\u001b[39m\u001b[39mAccuracy: \u001b[39m\u001b[39m{\u001b[39;00maccuracy\u001b[39m*\u001b[39m\u001b[39m100\u001b[39m\u001b[39m}\u001b[39;00m\u001b[39m%\u001b[39m\u001b[39m\"\u001b[39m)\n\u001b[0;32m---> <a href='vscode-notebook-cell:/Users/macbook/Downloads/DS%20Task/code.ipynb#Y233sZmlsZQ%3D%3D?line=14'>15</a>\u001b[0m predictions \u001b[39m=\u001b[39m model\u001b[39m.\u001b[39;49mpredict(y_test)\n",
      "File \u001b[0;32m~/opt/anaconda3/lib/python3.9/site-packages/sklearn/ensemble/_forest.py:971\u001b[0m, in \u001b[0;36mForestRegressor.predict\u001b[0;34m(self, X)\u001b[0m\n\u001b[1;32m    969\u001b[0m check_is_fitted(\u001b[39mself\u001b[39m)\n\u001b[1;32m    970\u001b[0m \u001b[39m# Check data\u001b[39;00m\n\u001b[0;32m--> 971\u001b[0m X \u001b[39m=\u001b[39m \u001b[39mself\u001b[39;49m\u001b[39m.\u001b[39;49m_validate_X_predict(X)\n\u001b[1;32m    973\u001b[0m \u001b[39m# Assign chunk of trees to jobs\u001b[39;00m\n\u001b[1;32m    974\u001b[0m n_jobs, _, _ \u001b[39m=\u001b[39m _partition_estimators(\u001b[39mself\u001b[39m\u001b[39m.\u001b[39mn_estimators, \u001b[39mself\u001b[39m\u001b[39m.\u001b[39mn_jobs)\n",
      "File \u001b[0;32m~/opt/anaconda3/lib/python3.9/site-packages/sklearn/ensemble/_forest.py:579\u001b[0m, in \u001b[0;36mBaseForest._validate_X_predict\u001b[0;34m(self, X)\u001b[0m\n\u001b[1;32m    576\u001b[0m \u001b[39m\"\"\"\u001b[39;00m\n\u001b[1;32m    577\u001b[0m \u001b[39mValidate X whenever one tries to predict, apply, predict_proba.\"\"\"\u001b[39;00m\n\u001b[1;32m    578\u001b[0m check_is_fitted(\u001b[39mself\u001b[39m)\n\u001b[0;32m--> 579\u001b[0m X \u001b[39m=\u001b[39m \u001b[39mself\u001b[39;49m\u001b[39m.\u001b[39;49m_validate_data(X, dtype\u001b[39m=\u001b[39;49mDTYPE, accept_sparse\u001b[39m=\u001b[39;49m\u001b[39m\"\u001b[39;49m\u001b[39mcsr\u001b[39;49m\u001b[39m\"\u001b[39;49m, reset\u001b[39m=\u001b[39;49m\u001b[39mFalse\u001b[39;49;00m)\n\u001b[1;32m    580\u001b[0m \u001b[39mif\u001b[39;00m issparse(X) \u001b[39mand\u001b[39;00m (X\u001b[39m.\u001b[39mindices\u001b[39m.\u001b[39mdtype \u001b[39m!=\u001b[39m np\u001b[39m.\u001b[39mintc \u001b[39mor\u001b[39;00m X\u001b[39m.\u001b[39mindptr\u001b[39m.\u001b[39mdtype \u001b[39m!=\u001b[39m np\u001b[39m.\u001b[39mintc):\n\u001b[1;32m    581\u001b[0m     \u001b[39mraise\u001b[39;00m \u001b[39mValueError\u001b[39;00m(\u001b[39m\"\u001b[39m\u001b[39mNo support for np.int64 index based sparse matrices\u001b[39m\u001b[39m\"\u001b[39m)\n",
      "File \u001b[0;32m~/opt/anaconda3/lib/python3.9/site-packages/sklearn/base.py:566\u001b[0m, in \u001b[0;36mBaseEstimator._validate_data\u001b[0;34m(self, X, y, reset, validate_separately, **check_params)\u001b[0m\n\u001b[1;32m    564\u001b[0m     \u001b[39mraise\u001b[39;00m \u001b[39mValueError\u001b[39;00m(\u001b[39m\"\u001b[39m\u001b[39mValidation should be done on X, y or both.\u001b[39m\u001b[39m\"\u001b[39m)\n\u001b[1;32m    565\u001b[0m \u001b[39melif\u001b[39;00m \u001b[39mnot\u001b[39;00m no_val_X \u001b[39mand\u001b[39;00m no_val_y:\n\u001b[0;32m--> 566\u001b[0m     X \u001b[39m=\u001b[39m check_array(X, \u001b[39m*\u001b[39;49m\u001b[39m*\u001b[39;49mcheck_params)\n\u001b[1;32m    567\u001b[0m     out \u001b[39m=\u001b[39m X\n\u001b[1;32m    568\u001b[0m \u001b[39melif\u001b[39;00m no_val_X \u001b[39mand\u001b[39;00m \u001b[39mnot\u001b[39;00m no_val_y:\n",
      "File \u001b[0;32m~/opt/anaconda3/lib/python3.9/site-packages/sklearn/utils/validation.py:746\u001b[0m, in \u001b[0;36mcheck_array\u001b[0;34m(array, accept_sparse, accept_large_sparse, dtype, order, copy, force_all_finite, ensure_2d, allow_nd, ensure_min_samples, ensure_min_features, estimator)\u001b[0m\n\u001b[1;32m    744\u001b[0m         array \u001b[39m=\u001b[39m array\u001b[39m.\u001b[39mastype(dtype, casting\u001b[39m=\u001b[39m\u001b[39m\"\u001b[39m\u001b[39munsafe\u001b[39m\u001b[39m\"\u001b[39m, copy\u001b[39m=\u001b[39m\u001b[39mFalse\u001b[39;00m)\n\u001b[1;32m    745\u001b[0m     \u001b[39melse\u001b[39;00m:\n\u001b[0;32m--> 746\u001b[0m         array \u001b[39m=\u001b[39m np\u001b[39m.\u001b[39;49masarray(array, order\u001b[39m=\u001b[39;49morder, dtype\u001b[39m=\u001b[39;49mdtype)\n\u001b[1;32m    747\u001b[0m \u001b[39mexcept\u001b[39;00m ComplexWarning \u001b[39mas\u001b[39;00m complex_warning:\n\u001b[1;32m    748\u001b[0m     \u001b[39mraise\u001b[39;00m \u001b[39mValueError\u001b[39;00m(\n\u001b[1;32m    749\u001b[0m         \u001b[39m\"\u001b[39m\u001b[39mComplex data not supported\u001b[39m\u001b[39m\\n\u001b[39;00m\u001b[39m{}\u001b[39;00m\u001b[39m\\n\u001b[39;00m\u001b[39m\"\u001b[39m\u001b[39m.\u001b[39mformat(array)\n\u001b[1;32m    750\u001b[0m     ) \u001b[39mfrom\u001b[39;00m \u001b[39mcomplex_warning\u001b[39;00m\n",
      "File \u001b[0;32m~/opt/anaconda3/lib/python3.9/site-packages/pandas/core/series.py:872\u001b[0m, in \u001b[0;36mSeries.__array__\u001b[0;34m(self, dtype)\u001b[0m\n\u001b[1;32m    825\u001b[0m \u001b[39mdef\u001b[39;00m \u001b[39m__array__\u001b[39m(\u001b[39mself\u001b[39m, dtype: npt\u001b[39m.\u001b[39mDTypeLike \u001b[39m|\u001b[39m \u001b[39mNone\u001b[39;00m \u001b[39m=\u001b[39m \u001b[39mNone\u001b[39;00m) \u001b[39m-\u001b[39m\u001b[39m>\u001b[39m np\u001b[39m.\u001b[39mndarray:\n\u001b[1;32m    826\u001b[0m     \u001b[39m\"\"\"\u001b[39;00m\n\u001b[1;32m    827\u001b[0m \u001b[39m    Return the values as a NumPy array.\u001b[39;00m\n\u001b[1;32m    828\u001b[0m \n\u001b[0;32m   (...)\u001b[0m\n\u001b[1;32m    870\u001b[0m \u001b[39m          dtype='datetime64[ns]')\u001b[39;00m\n\u001b[1;32m    871\u001b[0m \u001b[39m    \"\"\"\u001b[39;00m\n\u001b[0;32m--> 872\u001b[0m     \u001b[39mreturn\u001b[39;00m np\u001b[39m.\u001b[39;49masarray(\u001b[39mself\u001b[39;49m\u001b[39m.\u001b[39;49m_values, dtype)\n",
      "\u001b[0;31mValueError\u001b[0m: could not convert string to float: 'Spoon - Soup, Plastic'"
     ]
    }
   ],
   "source": [
    "import pandas as pd\n",
    "from sklearn.ensemble import RandomForestClassifier\n",
    "from sklearn.model_selection import train_test_split\n",
    "\n",
    "X_train, X_test, y_train, y_test = train_test_split(X, y, test_size=0.2)\n",
    "\n",
    "# Train the random forest classifier\n",
    "rf = RandomForestClassifier()\n",
    "rf.fit(X_train, y_train)\n",
    "\n",
    "# Test the random forest classifier\n",
    "accuracy = rf.score(X_test, y_test)\n",
    "print(f\"Accuracy: {accuracy*100}%\")\n",
    "\n",
    "predictions = model.predict(X_test)"
   ]
  },
  {
   "cell_type": "code",
   "execution_count": null,
   "metadata": {},
   "outputs": [],
   "source": []
  }
 ],
 "metadata": {
  "kernelspec": {
   "display_name": "base",
   "language": "python",
   "name": "python3"
  },
  "language_info": {
   "codemirror_mode": {
    "name": "ipython",
    "version": 3
   },
   "file_extension": ".py",
   "mimetype": "text/x-python",
   "name": "python",
   "nbconvert_exporter": "python",
   "pygments_lexer": "ipython3",
   "version": "3.9.12"
  },
  "orig_nbformat": 4
 },
 "nbformat": 4,
 "nbformat_minor": 2
}
