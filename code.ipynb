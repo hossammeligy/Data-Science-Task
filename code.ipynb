{
 "cells": [
  {
   "attachments": {},
   "cell_type": "markdown",
   "metadata": {},
   "source": [
    "# Data Prepration"
   ]
  },
  {
   "attachments": {},
   "cell_type": "markdown",
   "metadata": {},
   "source": [
    "*Reading the data and convert them to DFs*"
   ]
  },
  {
   "cell_type": "code",
   "execution_count": 1196,
   "metadata": {},
   "outputs": [],
   "source": [
    "import numpy as np\n",
    "import pandas as pd\n",
    "\n",
    "users_df = pd.read_csv('users.csv')\n",
    "restaurants_df = pd.read_csv('restaurants.csv')\n",
    "suppliers_df = pd.read_csv('suppliers.csv')\n",
    "orders_df = pd.read_csv('orders.csv')\n",
    "products_df = pd.read_csv('products.csv')\n",
    "\n",
    "DFs = [users_df,restaurants_df,suppliers_df,orders_df,products_df]\n"
   ]
  },
  {
   "attachments": {},
   "cell_type": "markdown",
   "metadata": {},
   "source": [
    "# Cleaning data"
   ]
  },
  {
   "attachments": {},
   "cell_type": "markdown",
   "metadata": {},
   "source": [
    "**Handling Duplicates**"
   ]
  },
  {
   "cell_type": "code",
   "execution_count": 1197,
   "metadata": {},
   "outputs": [],
   "source": [
    "def CheckDuplicates(dfs):\n",
    "    for  i, dfs in enumerate(dfs): \n",
    "        duplicate = dfs.duplicated().sum()\n",
    "        print('The dataset contained {} duplicated rows'.format(duplicate))\n",
    "        if(duplicate > 0):\n",
    "            dfs = dfs.drop_duplicates()"
   ]
  },
  {
   "cell_type": "code",
   "execution_count": 1198,
   "metadata": {},
   "outputs": [
    {
     "name": "stdout",
     "output_type": "stream",
     "text": [
      "The dataset contained 0 duplicated rows\n",
      "The dataset contained 0 duplicated rows\n",
      "The dataset contained 0 duplicated rows\n",
      "The dataset contained 0 duplicated rows\n",
      "The dataset contained 0 duplicated rows\n"
     ]
    }
   ],
   "source": [
    "CheckDuplicates(DFs)"
   ]
  },
  {
   "cell_type": "code",
   "execution_count": 1199,
   "metadata": {},
   "outputs": [],
   "source": [
    "# Remove duplicates\n",
    "users_df.drop_duplicates(inplace=True)\n",
    "restaurants_df.drop_duplicates(inplace=True)\n",
    "suppliers_df.drop_duplicates(inplace=True)\n",
    "orders_df.drop_duplicates(inplace=True)\n",
    "products_df.drop_duplicates(inplace=True)"
   ]
  },
  {
   "attachments": {},
   "cell_type": "markdown",
   "metadata": {},
   "source": [
    "**Handling Missings**"
   ]
  },
  {
   "attachments": {},
   "cell_type": "markdown",
   "metadata": {},
   "source": [
    "checkMissings Mehtod check the percentage of missings in each DataFrame \n",
    "- if the rows contibute to the datasert is less than 1% then it's safe to drop them."
   ]
  },
  {
   "cell_type": "code",
   "execution_count": 1200,
   "metadata": {},
   "outputs": [],
   "source": [
    "def checkMissings(dfs):\n",
    "    for  i, dfs in enumerate(dfs): \n",
    "        columns_with_missing_values = dfs.columns[dfs.isna().any()]\n",
    "        columns_to_drop = dfs[columns_with_missing_values].isna().mean() * 100\n",
    "        columns_to_drop = columns_to_drop[columns_to_drop < 1]\n",
    "        total_rows = dfs[columns_to_drop.index] \\\n",
    "        .isna().any(axis=1).sum()\n",
    "        percentage = (total_rows / dfs.shape[0]) * 100\n",
    "        print('***************')\n",
    "        print(f\"Missing percentage for DataFrame {i}:\")\n",
    "        print('Total number of rows: ', total_rows)\n",
    "        print('These rows contribute to the dataset with {percentage:.2f}%'.format(percentage=percentage))"
   ]
  },
  {
   "cell_type": "code",
   "execution_count": 1201,
   "metadata": {},
   "outputs": [
    {
     "name": "stdout",
     "output_type": "stream",
     "text": [
      "***************\n",
      "Missing percentage for DataFrame 0:\n",
      "Total number of rows:  0\n",
      "These rows contribute to the dataset with 0.00%\n",
      "***************\n",
      "Missing percentage for DataFrame 1:\n",
      "Total number of rows:  0\n",
      "These rows contribute to the dataset with 0.00%\n",
      "***************\n",
      "Missing percentage for DataFrame 2:\n",
      "Total number of rows:  0\n",
      "These rows contribute to the dataset with 0.00%\n",
      "***************\n",
      "Missing percentage for DataFrame 3:\n",
      "Total number of rows:  0\n",
      "These rows contribute to the dataset with 0.00%\n",
      "***************\n",
      "Missing percentage for DataFrame 4:\n",
      "Total number of rows:  0\n",
      "These rows contribute to the dataset with 0.00%\n"
     ]
    }
   ],
   "source": [
    "checkMissings(DFs)"
   ]
  },
  {
   "cell_type": "code",
   "execution_count": 1202,
   "metadata": {},
   "outputs": [],
   "source": [
    "#Remove rows with missing values\n",
    "users_df.dropna(inplace=True)\n",
    "restaurants_df.dropna(inplace=True)\n",
    "suppliers_df.dropna(inplace=True)\n",
    "orders_df.dropna(inplace=True)\n",
    "products_df.dropna(inplace=True)"
   ]
  },
  {
   "attachments": {},
   "cell_type": "markdown",
   "metadata": {},
   "source": [
    "convert the order_date and delivery_data to Date format"
   ]
  },
  {
   "cell_type": "code",
   "execution_count": 1203,
   "metadata": {},
   "outputs": [],
   "source": [
    "orders_df['order_date'] = pd.to_datetime(orders_df['order_date'], format='%d/%m/%Y')\n",
    "orders_df[\"delivery_date\"] = pd.to_datetime(orders_df[\"delivery_date\"], format='%d/%m/%Y')\n",
    "orders_df['order_month'] = orders_df['order_date'].apply(lambda x: x.month)\n",
    "orders_df['order_year'] = orders_df['order_date'].apply(lambda x: x.year)\n"
   ]
  },
  {
   "attachments": {},
   "cell_type": "markdown",
   "metadata": {},
   "source": [
    "Rename columns for consistency\n"
   ]
  },
  {
   "cell_type": "code",
   "execution_count": 1204,
   "metadata": {},
   "outputs": [],
   "source": [
    "users_df.rename(columns={\"id\": \"user_id\"}, inplace=True)\n",
    "restaurants_df.rename(columns={\"id\": \"restaurant_id\"}, inplace=True)\n",
    "suppliers_df.rename(columns={\"id\": \"supplier_id\"}, inplace=True)\n",
    "products_df.rename(columns={\"id\": \"product_id\"}, inplace=True)"
   ]
  },
  {
   "attachments": {},
   "cell_type": "markdown",
   "metadata": {},
   "source": [
    "# Features Engineering"
   ]
  },
  {
   "attachments": {},
   "cell_type": "markdown",
   "metadata": {},
   "source": [
    "**Number of orders_df**\n",
    "\n",
    "num_orders_df is the total number of orders_df has been made of a product"
   ]
  },
  {
   "cell_type": "code",
   "execution_count": 1205,
   "metadata": {},
   "outputs": [],
   "source": [
    "#Add total number of orders_df of a specfic product\n",
    "num_orders_df = orders_df.groupby('product_id')['order_id'].nunique().reset_index()\n",
    "num_orders_df = num_orders_df.rename(columns={'order_id': 'num_orders_df'}).astype('Int16') #convert it to Integer value not float\n",
    "products_df = products_df.merge(num_orders_df, on='product_id', how='left')\n",
    "\n",
    "products_df['num_orders_df'] = products_df['num_orders_df'].fillna(0) #remove NaNs\n",
    "\n"
   ]
  },
  {
   "attachments": {},
   "cell_type": "markdown",
   "metadata": {},
   "source": [
    "**Product Rating** \n",
    "\n",
    "product_rating is resturant rating for a specfic product it has the value from 1 to 5 this value has been calculated with this assumption:\n",
    "- if the product has not been ordered before the rating will be 0 \n",
    "- if the product has been ordered 1, 2 or 3 times the rating will be between 1:3\n",
    "- if the product has been ordered < 3 then the rating will be 4 or 5 \n",
    "\n",
    "Notice: \n",
    "this is assumption is made by me"
   ]
  },
  {
   "cell_type": "code",
   "execution_count": 1206,
   "metadata": {},
   "outputs": [],
   "source": [
    "def assign_product_rating(num_orders_df):\n",
    "    if num_orders_df == 0:\n",
    "        return 0\n",
    "    elif num_orders_df <= 3:\n",
    "        return np.random.choice([1, 2, 3])\n",
    "    else:\n",
    "        return np.random.choice([4, 5])\n",
    "\n",
    "# Add product_rating column to products_df based on num_orders_df\n",
    "products_df['product_rating'] = products_df['num_orders_df'].apply(assign_product_rating)\n",
    "\n",
    "\n"
   ]
  },
  {
   "attachments": {},
   "cell_type": "markdown",
   "metadata": {},
   "source": [
    "**Order for supplier**\n",
    "\n",
    "supplier_num_orders refers to the total number of orders_df requested by resturants from specfic supplier"
   ]
  },
  {
   "cell_type": "code",
   "execution_count": 1207,
   "metadata": {},
   "outputs": [
    {
     "data": {
      "image/png": "[encoded data removed]",
      "text/plain": [
       "<Figure size 432x288 with 1 Axes>"
      ]
     },
     "metadata": {},
     "output_type": "display_data"
    }
   ],
   "source": [
    "#Add total number of orders_df of specfic supplier\n",
    "# Group orders_df by supplier and count unique order IDs\n",
    "# Get the total number of orders_df for each supplier\n",
    "num_orders_df = orders_df.merge(products_df, on='product_id', how='left')\n",
    "num_orders_df = num_orders_df.groupby('supplier_id')['order_id'].nunique().reset_index()\n",
    "num_orders_df = num_orders_df.rename(columns={'order_id': 'supplier_num_orders'}).astype('Int16')\n",
    "\n",
    "# Merge with suppliers_df\n",
    "suppliers_df = suppliers_df.merge(num_orders_df, on='supplier_id', how='left').fillna(0)\n",
    "\n",
    "import matplotlib.pyplot as plt\n",
    "\n",
    "# Calculate the percentage of suppliers that made a certain number of orders\n",
    "order_counts = suppliers_df['supplier_num_orders'].value_counts(normalize=True) * 100\n",
    "\n",
    "\n",
    "\n",
    "labels = order_counts.index.astype(str)\n",
    "sizes = order_counts.values\n",
    "fig1, ax1 = plt.subplots()\n",
    "ax1.pie(sizes, labels=labels, autopct='%1.1f%%')\n",
    "ax1.axis('equal')\n",
    "ax1.set_title('Percentage of Suppliers by Number of Orders')\n",
    "plt.show()\n"
   ]
  },
  {
   "attachments": {},
   "cell_type": "markdown",
   "metadata": {},
   "source": [
    "**Delivery performance**\n",
    "\n",
    "delivery_performance calcualtes the performance of every supplier depending on orders_df as following:\n",
    "- if the delivery date - order date  > lead days then the supplier's performance (late) \n",
    "- if the delivery date - order date  < lead days then the supplier's performance (early)\n",
    "- if the delivery date - order date  = lead days then the supplier's performance (on Time)"
   ]
  },
  {
   "cell_type": "code",
   "execution_count": 1208,
   "metadata": {},
   "outputs": [
    {
     "data": {
      "image/png": "[encoded data removed]",
      "text/plain": [
       "<Figure size 432x288 with 1 Axes>"
      ]
     },
     "metadata": {},
     "output_type": "display_data"
    }
   ],
   "source": [
    "# Merge orders_df, products_df, and suppliers_df to get the delivery lead time and supplier_id for each order\n",
    "merged_df = pd.merge(orders_df, products_df[['product_id', 'supplier_id', 'delivery_lead_days']], on='product_id')\n",
    "\n",
    "# Calculate the delivery time for each order\n",
    "merged_df['delivery_time'] = (merged_df['delivery_date'] - merged_df['order_date']).dt.days\n",
    "\n",
    "# Calculate the delivery performance for each order\n",
    "merged_df.loc[merged_df['delivery_time'] > merged_df['delivery_lead_days'], 'delivery_performance'] = 1\n",
    "merged_df.loc[merged_df['delivery_time'] == merged_df['delivery_lead_days'], 'delivery_performance'] = 2\n",
    "merged_df.loc[merged_df['delivery_time'] < merged_df['delivery_lead_days'], 'delivery_performance'] = 3\n",
    "\n",
    "# Group the orders_df by supplier_id and calculate the mode of the delivery_performance for each supplier\n",
    "supplier_delivery_performance = merged_df.groupby('supplier_id')['delivery_performance'].apply(lambda x: x.mode()[0]).reset_index(name='delivery_performance').astype('Int16')\n",
    "\n",
    "# Add the delivery performance column to the suppliers_df\n",
    "suppliers_df = suppliers_df.merge(supplier_delivery_performance, on='supplier_id', how='left').fillna(0)\n",
    "\n",
    "\n",
    "order_counts = suppliers_df['delivery_performance'].value_counts(normalize=True) * 100\n",
    "\n",
    "\n",
    "\n",
    "labels = order_counts.index.astype(str)\n",
    "sizes = order_counts.values\n",
    "fig1, ax1 = plt.subplots()\n",
    "ax1.pie(sizes, labels=labels, autopct='%1.1f%%')\n",
    "ax1.axis('equal')\n",
    "ax1.set_title('Percentage of Suppliers by Number of Orders')\n",
    "plt.show()"
   ]
  },
  {
   "attachments": {},
   "cell_type": "markdown",
   "metadata": {},
   "source": [
    "**Supplier Rating**\n",
    "\n",
    "Supplier rating is based on the delivery performance and numbers of orders_df\n",
    "i will made an manual rating as following:\n",
    "- if the supplier made 0 order then rating is 0\n",
    "-----------------------------------\n",
    "- if the supplier made 0 < order < 5 and it normally late then the rating is 1\n",
    "- if the supplier made 0 < order < 5 and it normally on Time then the rating is 1.5\n",
    "- if the supplier made 0 < order < 5 and it normally early then the rating is 2\n",
    "-----------------------------------\n",
    "- if the supplier made 5 <= order < 10 and it normally late then the rating is 2.5\n",
    "- if the supplier made 5 <= order < 10 and it normally on Time then the rating is 3\n",
    "- if the supplier made 0 < order < 5 and it normally early then the rating is 3.5\n",
    "-----------------------------------\n",
    "- if the supplier made 10 <= order and it normally late then the rating is 4\n",
    "- if the supplier made 10 <= order and it normally on Time then the rating is 4.5\n",
    "- if the supplier made 10 <= order  and it normally early then the rating is 5"
   ]
  },
  {
   "cell_type": "code",
   "execution_count": 1209,
   "metadata": {},
   "outputs": [
    {
     "data": {
      "image/png": "[encoded data removed]",
      "text/plain": [
       "<Figure size 432x288 with 1 Axes>"
      ]
     },
     "metadata": {},
     "output_type": "display_data"
    },
    {
     "data": {
      "text/plain": [
       "2.125"
      ]
     },
     "execution_count": 1209,
     "metadata": {},
     "output_type": "execute_result"
    }
   ],
   "source": [
    "def calculate_supplier_rating(num_orders_df, delivery_performance):\n",
    "    if num_orders_df == 0:\n",
    "        return 0\n",
    "    elif num_orders_df < 5:\n",
    "        if delivery_performance == 1:\n",
    "            return 1\n",
    "        elif delivery_performance == 2:\n",
    "            return 1.5\n",
    "        elif delivery_performance == 3:\n",
    "            return 2\n",
    "    elif num_orders_df < 10:\n",
    "        if delivery_performance == 1:\n",
    "            return 2.5\n",
    "        elif delivery_performance == 2:\n",
    "            return 3\n",
    "        elif delivery_performance == 3:\n",
    "            return 3.5\n",
    "    else:\n",
    "        if delivery_performance == 1:\n",
    "            return 4\n",
    "        elif delivery_performance == 2:\n",
    "            return 4.5\n",
    "        elif delivery_performance == 3:\n",
    "            return 5\n",
    "\n",
    "\n",
    "suppliers_df['supplier_rating'] = suppliers_df.apply(lambda row: calculate_supplier_rating(row['supplier_num_orders'], row['delivery_performance']), axis=1)\n",
    "\n",
    "\n",
    "import matplotlib.pyplot as plt\n",
    "\n",
    "# Count the number of suppliers for each rating\n",
    "supplier_ratings = suppliers_df['supplier_rating'].value_counts().sort_index()\n",
    "\n",
    "# Create a bar chart\n",
    "plt.bar(supplier_ratings.index, supplier_ratings.values)\n",
    "\n",
    "# Set the chart title and axis labels\n",
    "plt.title('Supplier Ratings')\n",
    "plt.xlabel('Rating')\n",
    "plt.ylabel('Number of Suppliers')\n",
    "\n",
    "# Show the chart\n",
    "plt.show()\n",
    "\n",
    "suppliers_df['supplier_rating'].mean()\n"
   ]
  },
  {
   "attachments": {},
   "cell_type": "markdown",
   "metadata": {},
   "source": [
    "Realtionship between the Restaurant Cuisine and the pervious ordered products"
   ]
  },
  {
   "cell_type": "code",
   "execution_count": 1210,
   "metadata": {},
   "outputs": [
    {
     "data": {
      "image/png": "[encoded data removed]",
      "text/plain": [
       "<Figure size 470.375x360 with 1 Axes>"
      ]
     },
     "metadata": {},
     "output_type": "display_data"
    }
   ],
   "source": [
    "import pandas as pd\n",
    "import seaborn as sns\n",
    "\n",
    "import matplotlib.pyplot as plt\n",
    "\n",
    "# 1. Merge the three dataframes\n",
    "merged_df = orders_df.merge(products_df, on='product_id')\n",
    "merged_df = merged_df.merge(restaurants_df, on='restaurant_id')\n",
    "\n",
    "# 2. Group the merged dataframe by cuisine and category, and count the number of orders_df for each combination\n",
    "grouped_df = merged_df.groupby(['cuisine', 'product_category']).agg({'order_id': 'count'}).reset_index()\n",
    "\n",
    "# 3. Calculate the total number of orders_df for each cuisine\n",
    "total_orders_df = grouped_df.groupby('cuisine').agg({'order_id': 'sum'}).reset_index().rename(columns={'order_id': 'total_orders_df'})\n",
    "\n",
    "# 4. Merge the grouped dataframe with the total orders_df dataframe to get the percentage of orders_df for each category and cuisine\n",
    "percentage_df = grouped_df.merge(total_orders_df, on='cuisine')\n",
    "percentage_df['percentage'] = percentage_df['order_id'] / percentage_df['total_orders_df'] * 100\n",
    "\n",
    "# 5. Create a separate chart for each cuisine using a bar chart with the category on the x-axis and the percentage on the y-axis\n",
    "sns.catplot(x='product_category', y='percentage', hue='cuisine', kind='bar', data=percentage_df)\n",
    "plt.xlabel('Category')\n",
    "plt.ylabel('Percentage')\n",
    "plt.show()\n",
    "\n",
    "\n"
   ]
  },
  {
   "attachments": {},
   "cell_type": "markdown",
   "metadata": {},
   "source": [
    "Product Season\n"
   ]
  },
  {
   "cell_type": "code",
   "execution_count": 1211,
   "metadata": {},
   "outputs": [
    {
     "data": {
      "text/plain": [
       "<AxesSubplot:xlabel='product_category'>"
      ]
     },
     "execution_count": 1211,
     "metadata": {},
     "output_type": "execute_result"
    },
    {
     "data": {
      "image/png": "[encoded data removed]",
      "text/plain": [
       "<Figure size 432x288 with 1 Axes>"
      ]
     },
     "metadata": {},
     "output_type": "display_data"
    }
   ],
   "source": [
    "import pandas as pd\n",
    "\n",
    "# Merge orders and products dataframes\n",
    "df = pd.merge(orders_df, products_df, on='product_id')\n",
    "\n",
    "# Create a new column for the order season\n",
    "df['order_season'] = pd.cut(df['order_month'], [0, 3, 6, 9, 12], labels=['Winter', 'Spring', 'Summer', 'Fall'])\n",
    "\n",
    "# Group by product_category and order_season, and count the number of orders\n",
    "category_season_counts = df.groupby(['product_category', 'order_season'])['order_id'].count().reset_index()\n",
    "\n",
    "# Pivot the table so that each category is a column\n",
    "category_season_counts = category_season_counts.pivot(index='product_category', columns='order_season', values='order_id')\n",
    "\n",
    "# Reorder columns so that they are in the desired order\n",
    "category_season_counts = category_season_counts[['Winter', 'Spring', 'Summer', 'Fall']]\n",
    "\n",
    "# Visualize as a bar chart\n",
    "category_season_counts.plot(kind='bar')\n",
    "\n",
    "\n"
   ]
  },
  {
   "attachments": {},
   "cell_type": "markdown",
   "metadata": {},
   "source": [
    "# Training and Testing"
   ]
  },
  {
   "attachments": {},
   "cell_type": "markdown",
   "metadata": {},
   "source": [
    "# ML"
   ]
  },
  {
   "attachments": {},
   "cell_type": "markdown",
   "metadata": {},
   "source": [
    "**Future procurement behavior: How much will a restaurant order from a specific supplier in the upcoming month?**\n"
   ]
  },
  {
   "attachments": {},
   "cell_type": "markdown",
   "metadata": {},
   "source": [
    "**cross validtion for ForestRandom**"
   ]
  },
  {
   "cell_type": "code",
   "execution_count": 1212,
   "metadata": {},
   "outputs": [
    {
     "name": "stdout",
     "output_type": "stream",
     "text": [
      "Mean absolute error: 0.3586615170117134\n"
     ]
    }
   ],
   "source": [
    "import pandas as pd\n",
    "from sklearn.ensemble import RandomForestRegressor\n",
    "from sklearn.model_selection import cross_val_score\n",
    "\n",
    "# Merge the dataframes\n",
    "df = pd.merge(orders_df, products_df, on='product_id')\n",
    "df = pd.merge(df, suppliers_df, on='supplier_id')\n",
    "df = pd.merge(df, restaurants_df, on='restaurant_id')\n",
    "\n",
    "# Select features and target variable\n",
    "X = df[['supplier_id', 'restaurant_id']]\n",
    "y = df['quantity']\n",
    "\n",
    "# Train the RandomForestRegressor model using cross-validation\n",
    "model = RandomForestRegressor(n_estimators=50)\n",
    "scores = cross_val_score(model, X, y, cv=5)\n",
    "\n",
    "# Print the mean score and the standard deviation\n",
    "print(\"Mean absolute error:\", -scores.mean())\n"
   ]
  },
  {
   "cell_type": "code",
   "execution_count": 1213,
   "metadata": {},
   "outputs": [
    {
     "data": {
      "image/png": "[encoded data removed]",
      "text/plain": [
       "<Figure size 432x288 with 1 Axes>"
      ]
     },
     "metadata": {},
     "output_type": "display_data"
    }
   ],
   "source": [
    "import pandas as pd\n",
    "from sklearn.ensemble import RandomForestRegressor\n",
    "from sklearn.model_selection import train_test_split\n",
    "from sklearn.metrics import mean_absolute_error\n",
    "\n",
    "\n",
    "df = pd.merge(orders_df, products_df, on='product_id')\n",
    "df = pd.merge(df, suppliers_df, on='supplier_id')\n",
    "df = pd.merge(df, restaurants_df, on='restaurant_id')\n",
    "\n",
    "\n",
    "\n",
    "X_train, X_test, y_train, y_test = train_test_split(df[['supplier_id', 'restaurant_id']], df['quantity'], test_size=0.2)\n",
    "errors = []\n",
    "for i in range(1, 100):\n",
    "    model = RandomForestRegressor(n_estimators=i)\n",
    "    model.fit(X_train, y_train)\n",
    "    predictions = model.predict(X_test)\n",
    "    error = mean_absolute_error(predictions, y_test)\n",
    "    errors.append(error)\n",
    "\n",
    "max(errors)\n",
    "fig, ax = plt.subplots()\n",
    "ax.scatter(y_test, predictions, alpha=0.5)\n",
    "ax.plot([y_test.min(), y_test.max()], [y_test.min(), y_test.max()], 'k--', lw=4)\n",
    "ax.set_xlabel('Actual')\n",
    "ax.set_ylabel('Predicted')\n",
    "plt.show()\n",
    "\n"
   ]
  },
  {
   "cell_type": "code",
   "execution_count": 1214,
   "metadata": {},
   "outputs": [
    {
     "data": {
      "text/plain": [
       "[<matplotlib.lines.Line2D at 0x7f93518656d0>]"
      ]
     },
     "execution_count": 1214,
     "metadata": {},
     "output_type": "execute_result"
    },
    {
     "data": {
      "image/png": "[encoded data removed]",
      "text/plain": [
       "<Figure size 432x288 with 1 Axes>"
      ]
     },
     "metadata": {},
     "output_type": "display_data"
    }
   ],
   "source": [
    "import matplotlib.pyplot as plt\n",
    "plt.plot(errors)"
   ]
  },
  {
   "attachments": {},
   "cell_type": "markdown",
   "metadata": {},
   "source": [
    "get_predction_Q1 is to use the model for prediction How much will a restaurant order from a specific supplier in the upcoming month?\n",
    "- takes (restaurant id & Supplier id) as an input\n",
    "- The out output is in form of (Resturant neme, supplier name, the predicted quantity will be required next month)"
   ]
  },
  {
   "cell_type": "code",
   "execution_count": 1215,
   "metadata": {},
   "outputs": [],
   "source": [
    "\n",
    "def get_predction_Q1(rest_id, supp_id):\n",
    "    rest_name = restaurants_df.loc[restaurants_df['restaurant_id'] == rest_id, 'restaurant_name'].values[0]\n",
    "    supp_name = suppliers_df.loc[suppliers_df['supplier_id'] == supp_id, 'supplier_name'].values[0]\n",
    "    prediction = model.predict(np.array([[rest_id, supp_id]]))\n",
    "\n",
    "    return rest_name, supp_name , prediction\n",
    "\n",
    "\n"
   ]
  },
  {
   "cell_type": "code",
   "execution_count": 1216,
   "metadata": {},
   "outputs": [
    {
     "name": "stderr",
     "output_type": "stream",
     "text": [
      "/Users/macbook/opt/anaconda3/lib/python3.9/site-packages/sklearn/base.py:450: UserWarning: X does not have valid feature names, but RandomForestRegressor was fitted with feature names\n",
      "  warnings.warn(\n"
     ]
    },
    {
     "data": {
      "text/plain": [
       "('Gigashots', 'Thoughtmix', array([27.31313131]))"
      ]
     },
     "execution_count": 1216,
     "metadata": {},
     "output_type": "execute_result"
    }
   ],
   "source": [
    "get_predction_Q1(1,2)"
   ]
  },
  {
   "attachments": {},
   "cell_type": "markdown",
   "metadata": {},
   "source": [
    "**Supplier performance: How likely is a supplier to meet the expected delivery time for an order?**"
   ]
  },
  {
   "attachments": {},
   "cell_type": "markdown",
   "metadata": {},
   "source": [
    "DecisionTreeRegressor"
   ]
  },
  {
   "cell_type": "code",
   "execution_count": 1217,
   "metadata": {},
   "outputs": [
    {
     "name": "stderr",
     "output_type": "stream",
     "text": [
      "/Users/macbook/opt/anaconda3/lib/python3.9/site-packages/sklearn/metrics/_regression.py:96: FutureWarning: Arrays of bytes/strings is being converted to decimal numbers if dtype='numeric'. This behavior is deprecated in 0.24 and will be removed in 1.1 (renaming of 0.26). Please convert your data to numeric values explicitly instead.\n",
      "  y_pred = check_array(y_pred, ensure_2d=False, dtype=dtype)\n"
     ]
    },
    {
     "name": "stdout",
     "output_type": "stream",
     "text": [
      "MAE 0.2\n"
     ]
    },
    {
     "data": {
      "image/png": "[encoded data removed]",
      "text/plain": [
       "<Figure size 432x288 with 1 Axes>"
      ]
     },
     "metadata": {},
     "output_type": "display_data"
    }
   ],
   "source": [
    "import pandas as pd\n",
    "import numpy as np\n",
    "from sklearn.tree import DecisionTreeRegressor\n",
    "from sklearn.model_selection import train_test_split\n",
    "from sklearn.metrics import r2_score\n",
    "\n",
    "df = pd.merge(orders_df, products_df, on='product_id')\n",
    "df = pd.merge(df, suppliers_df, on='supplier_id')\n",
    "df.drop('phone', axis=1, inplace=True) # inplace=True to modify the dataframe in place\n",
    "\n",
    "X_train, X_test, y_train, y_test = train_test_split(df[['supplier_id', 'supplier_num_orders', 'supplier_rating']],\n",
    "                                                     df['delivery_performance'], test_size=0.2)\n",
    "\n",
    "\n",
    "model = DecisionTreeRegressor()\n",
    "model.fit(X_train, y_train)\n",
    "predictions = model.predict(X_test)\n",
    "predictions = predictions.astype(float)\n",
    "error = mean_absolute_error(predictions, y_test) # using R2 instead of MAE\n",
    "\n",
    "print('MAE',error)\n",
    "\n",
    "plt.hist(predictions, bins=10, alpha=0.5)\n",
    "plt.xlabel('Predicted values')\n",
    "plt.ylabel('Frequency')\n",
    "plt.title('Distribution of Predicted Values')\n",
    "plt.show()\n",
    "\n",
    "\n"
   ]
  },
  {
   "attachments": {},
   "cell_type": "markdown",
   "metadata": {},
   "source": [
    "getExpectedDevliveryTime is method to predict How likely is a supplier to meet the expected delivery time for an order:\n",
    "- take one input (Supplier id)\n",
    "- the output is a floating number from 1:3 where\n",
    "    - the larger output means larger meet the expected time for deliver an order"
   ]
  },
  {
   "cell_type": "code",
   "execution_count": 1218,
   "metadata": {},
   "outputs": [
    {
     "name": "stderr",
     "output_type": "stream",
     "text": [
      "/Users/macbook/opt/anaconda3/lib/python3.9/site-packages/sklearn/base.py:450: UserWarning: X does not have valid feature names, but DecisionTreeRegressor was fitted with feature names\n",
      "  warnings.warn(\n"
     ]
    },
    {
     "name": "stdout",
     "output_type": "stream",
     "text": [
      "[1.]\n"
     ]
    }
   ],
   "source": [
    "def getExpectedDevliveryTime(supp_id):\n",
    "    supplier_info = suppliers_df.loc[suppliers_df['supplier_id'] == supp_id, ['supplier_num_orders', 'supplier_rating']]\n",
    "    supplier_num_orders = supplier_info.iloc[0]['supplier_num_orders']\n",
    "    supplier_rating = supplier_info.iloc[0]['supplier_rating']\n",
    "    predict = model.predict(np.array([[supp_id,supplier_num_orders,supplier_rating]]))\n",
    "    print(predict)\n",
    "\n",
    "getExpectedDevliveryTime(1)\n",
    "\n",
    "\n"
   ]
  },
  {
   "attachments": {},
   "cell_type": "markdown",
   "metadata": {},
   "source": [
    "RandomForestRegressor"
   ]
  },
  {
   "cell_type": "code",
   "execution_count": 1219,
   "metadata": {},
   "outputs": [
    {
     "name": "stdout",
     "output_type": "stream",
     "text": [
      "0.0\n"
     ]
    },
    {
     "name": "stderr",
     "output_type": "stream",
     "text": [
      "/Users/macbook/opt/anaconda3/lib/python3.9/site-packages/sklearn/metrics/_regression.py:96: FutureWarning: Arrays of bytes/strings is being converted to decimal numbers if dtype='numeric'. This behavior is deprecated in 0.24 and will be removed in 1.1 (renaming of 0.26). Please convert your data to numeric values explicitly instead.\n",
      "  y_pred = check_array(y_pred, ensure_2d=False, dtype=dtype)\n",
      "/Users/macbook/opt/anaconda3/lib/python3.9/site-packages/sklearn/metrics/_regression.py:96: FutureWarning: Arrays of bytes/strings is being converted to decimal numbers if dtype='numeric'. This behavior is deprecated in 0.24 and will be removed in 1.1 (renaming of 0.26). Please convert your data to numeric values explicitly instead.\n",
      "  y_pred = check_array(y_pred, ensure_2d=False, dtype=dtype)\n",
      "/Users/macbook/opt/anaconda3/lib/python3.9/site-packages/sklearn/metrics/_regression.py:96: FutureWarning: Arrays of bytes/strings is being converted to decimal numbers if dtype='numeric'. This behavior is deprecated in 0.24 and will be removed in 1.1 (renaming of 0.26). Please convert your data to numeric values explicitly instead.\n",
      "  y_pred = check_array(y_pred, ensure_2d=False, dtype=dtype)\n",
      "/Users/macbook/opt/anaconda3/lib/python3.9/site-packages/sklearn/metrics/_regression.py:96: FutureWarning: Arrays of bytes/strings is being converted to decimal numbers if dtype='numeric'. This behavior is deprecated in 0.24 and will be removed in 1.1 (renaming of 0.26). Please convert your data to numeric values explicitly instead.\n",
      "  y_pred = check_array(y_pred, ensure_2d=False, dtype=dtype)\n",
      "/Users/macbook/opt/anaconda3/lib/python3.9/site-packages/sklearn/metrics/_regression.py:96: FutureWarning: Arrays of bytes/strings is being converted to decimal numbers if dtype='numeric'. This behavior is deprecated in 0.24 and will be removed in 1.1 (renaming of 0.26). Please convert your data to numeric values explicitly instead.\n",
      "  y_pred = check_array(y_pred, ensure_2d=False, dtype=dtype)\n",
      "/Users/macbook/opt/anaconda3/lib/python3.9/site-packages/sklearn/metrics/_regression.py:96: FutureWarning: Arrays of bytes/strings is being converted to decimal numbers if dtype='numeric'. This behavior is deprecated in 0.24 and will be removed in 1.1 (renaming of 0.26). Please convert your data to numeric values explicitly instead.\n",
      "  y_pred = check_array(y_pred, ensure_2d=False, dtype=dtype)\n",
      "/Users/macbook/opt/anaconda3/lib/python3.9/site-packages/sklearn/metrics/_regression.py:96: FutureWarning: Arrays of bytes/strings is being converted to decimal numbers if dtype='numeric'. This behavior is deprecated in 0.24 and will be removed in 1.1 (renaming of 0.26). Please convert your data to numeric values explicitly instead.\n",
      "  y_pred = check_array(y_pred, ensure_2d=False, dtype=dtype)\n",
      "/Users/macbook/opt/anaconda3/lib/python3.9/site-packages/sklearn/metrics/_regression.py:96: FutureWarning: Arrays of bytes/strings is being converted to decimal numbers if dtype='numeric'. This behavior is deprecated in 0.24 and will be removed in 1.1 (renaming of 0.26). Please convert your data to numeric values explicitly instead.\n",
      "  y_pred = check_array(y_pred, ensure_2d=False, dtype=dtype)\n",
      "/Users/macbook/opt/anaconda3/lib/python3.9/site-packages/sklearn/metrics/_regression.py:96: FutureWarning: Arrays of bytes/strings is being converted to decimal numbers if dtype='numeric'. This behavior is deprecated in 0.24 and will be removed in 1.1 (renaming of 0.26). Please convert your data to numeric values explicitly instead.\n",
      "  y_pred = check_array(y_pred, ensure_2d=False, dtype=dtype)\n"
     ]
    },
    {
     "data": {
      "text/plain": [
       "[<matplotlib.lines.Line2D at 0x7f934e8f5970>]"
      ]
     },
     "execution_count": 1219,
     "metadata": {},
     "output_type": "execute_result"
    },
    {
     "data": {
      "image/png": "[encoded data removed]",
      "text/plain": [
       "<Figure size 432x288 with 1 Axes>"
      ]
     },
     "metadata": {},
     "output_type": "display_data"
    }
   ],
   "source": [
    "import pandas as pd\n",
    "from sklearn.ensemble import RandomForestRegressor\n",
    "from sklearn.model_selection import train_test_split\n",
    "from sklearn.metrics import mean_squared_error\n",
    "\n",
    "df = pd.merge(orders_df, products_df, on='product_id')\n",
    "df = pd.merge(df, suppliers_df, on='supplier_id')\n",
    "df.drop('phone', axis=1, inplace=True) # inplace=True to modify the dataframe in place\n",
    "\n",
    "X_train, X_test, y_train, y_test = train_test_split(df[['supplier_id', 'supplier_num_orders', 'supplier_rating', 'delivery_lead_days']],\n",
    "                                                     df['delivery_performance'], test_size=0.2)\n",
    "\n",
    "errors = []\n",
    "for i in range(1, 10):\n",
    "    model = RandomForestRegressor(n_estimators=i)\n",
    "    model.fit(X_train, y_train)\n",
    "    predictions = model.predict(X_test)\n",
    "    error = mean_squared_error(predictions, y_test) # using MSE instead of R2\n",
    "    errors.append(error)\n",
    "\n",
    "print(min(errors))\n",
    "import matplotlib.pyplot as plt\n",
    "plt.plot(errors)\n",
    "\n",
    "\n"
   ]
  },
  {
   "attachments": {},
   "cell_type": "markdown",
   "metadata": {},
   "source": [
    "**Product recommendation: Which products should be recommended to a restaurant based on their procurement history and preferences?**"
   ]
  },
  {
   "attachments": {},
   "cell_type": "markdown",
   "metadata": {},
   "source": [
    "Prepare the data"
   ]
  },
  {
   "cell_type": "code",
   "execution_count": 1220,
   "metadata": {},
   "outputs": [
    {
     "name": "stdout",
     "output_type": "stream",
     "text": [
      "Accuracy scores: [0.25 0.25 0.1  0.3  0.15]\n",
      "Mean accuracy score: 0.20999999999999996\n"
     ]
    },
    {
     "name": "stderr",
     "output_type": "stream",
     "text": [
      "/Users/macbook/opt/anaconda3/lib/python3.9/site-packages/sklearn/model_selection/_split.py:676: UserWarning: The least populated class in y has only 1 members, which is less than n_splits=5.\n",
      "  warnings.warn(\n",
      "/Users/macbook/opt/anaconda3/lib/python3.9/site-packages/sklearn/linear_model/_logistic.py:814: ConvergenceWarning: lbfgs failed to converge (status=1):\n",
      "STOP: TOTAL NO. of ITERATIONS REACHED LIMIT.\n",
      "\n",
      "Increase the number of iterations (max_iter) or scale the data as shown in:\n",
      "    https://scikit-learn.org/stable/modules/preprocessing.html\n",
      "Please also refer to the documentation for alternative solver options:\n",
      "    https://scikit-learn.org/stable/modules/linear_model.html#logistic-regression\n",
      "  n_iter_i = _check_optimize_result(\n",
      "/Users/macbook/opt/anaconda3/lib/python3.9/site-packages/sklearn/linear_model/_logistic.py:814: ConvergenceWarning: lbfgs failed to converge (status=1):\n",
      "STOP: TOTAL NO. of ITERATIONS REACHED LIMIT.\n",
      "\n",
      "Increase the number of iterations (max_iter) or scale the data as shown in:\n",
      "    https://scikit-learn.org/stable/modules/preprocessing.html\n",
      "Please also refer to the documentation for alternative solver options:\n",
      "    https://scikit-learn.org/stable/modules/linear_model.html#logistic-regression\n",
      "  n_iter_i = _check_optimize_result(\n",
      "/Users/macbook/opt/anaconda3/lib/python3.9/site-packages/sklearn/linear_model/_logistic.py:814: ConvergenceWarning: lbfgs failed to converge (status=1):\n",
      "STOP: TOTAL NO. of ITERATIONS REACHED LIMIT.\n",
      "\n",
      "Increase the number of iterations (max_iter) or scale the data as shown in:\n",
      "    https://scikit-learn.org/stable/modules/preprocessing.html\n",
      "Please also refer to the documentation for alternative solver options:\n",
      "    https://scikit-learn.org/stable/modules/linear_model.html#logistic-regression\n",
      "  n_iter_i = _check_optimize_result(\n",
      "/Users/macbook/opt/anaconda3/lib/python3.9/site-packages/sklearn/linear_model/_logistic.py:814: ConvergenceWarning: lbfgs failed to converge (status=1):\n",
      "STOP: TOTAL NO. of ITERATIONS REACHED LIMIT.\n",
      "\n",
      "Increase the number of iterations (max_iter) or scale the data as shown in:\n",
      "    https://scikit-learn.org/stable/modules/preprocessing.html\n",
      "Please also refer to the documentation for alternative solver options:\n",
      "    https://scikit-learn.org/stable/modules/linear_model.html#logistic-regression\n",
      "  n_iter_i = _check_optimize_result(\n",
      "/Users/macbook/opt/anaconda3/lib/python3.9/site-packages/sklearn/linear_model/_logistic.py:814: ConvergenceWarning: lbfgs failed to converge (status=1):\n",
      "STOP: TOTAL NO. of ITERATIONS REACHED LIMIT.\n",
      "\n",
      "Increase the number of iterations (max_iter) or scale the data as shown in:\n",
      "    https://scikit-learn.org/stable/modules/preprocessing.html\n",
      "Please also refer to the documentation for alternative solver options:\n",
      "    https://scikit-learn.org/stable/modules/linear_model.html#logistic-regression\n",
      "  n_iter_i = _check_optimize_result(\n"
     ]
    }
   ],
   "source": [
    "import pandas as pd\n",
    "from sklearn.linear_model import LogisticRegression\n",
    "from sklearn.model_selection import cross_val_score\n",
    "from sklearn.preprocessing import LabelEncoder\n",
    "\n",
    "df = pd.merge(orders_df, restaurants_df, on='restaurant_id')\n",
    "df = pd.merge(df, products_df, on='product_id')\n",
    "\n",
    "df.drop(['manager_id', 'phone_number', 'address', 'created_on', 'product_unit', 'state'], axis=1, inplace=True)\n",
    "\n",
    "# Encode categorical variables\n",
    "le = LabelEncoder()\n",
    "df['product_category'] = le.fit_transform(df['product_category'])\n",
    "df['cuisine'] = le.fit_transform(df['cuisine'])\n",
    "df['price_range'] = le.fit_transform(df['price_range'])\n",
    "\n",
    "# Prepare the data for cross-validation\n",
    "X = df[['cuisine', 'product_rating', 'restaurant_id', 'product_id']]\n",
    "y = df['product_name']\n",
    "\n",
    "# Train the logistic regression model using cross-validation\n",
    "logreg = LogisticRegression()\n",
    "scores = cross_val_score(logreg, X, y, cv=5)\n",
    "\n",
    "# Print the accuracy scores for each fold and the mean score\n",
    "print(\"Accuracy scores:\", scores)\n",
    "print(\"Mean accuracy score:\", scores.mean())\n"
   ]
  },
  {
   "attachments": {},
   "cell_type": "markdown",
   "metadata": {},
   "source": [
    "Cross-Validation for LogisticRegression"
   ]
  },
  {
   "cell_type": "code",
   "execution_count": 1221,
   "metadata": {},
   "outputs": [
    {
     "name": "stdout",
     "output_type": "stream",
     "text": [
      "Accuracy scores: [0.25 0.25 0.1  0.3  0.15]\n",
      "Mean accuracy score: 20.999999999999996 %\n"
     ]
    },
    {
     "name": "stderr",
     "output_type": "stream",
     "text": [
      "/Users/macbook/opt/anaconda3/lib/python3.9/site-packages/sklearn/model_selection/_split.py:676: UserWarning: The least populated class in y has only 1 members, which is less than n_splits=5.\n",
      "  warnings.warn(\n",
      "/Users/macbook/opt/anaconda3/lib/python3.9/site-packages/sklearn/linear_model/_logistic.py:814: ConvergenceWarning: lbfgs failed to converge (status=1):\n",
      "STOP: TOTAL NO. of ITERATIONS REACHED LIMIT.\n",
      "\n",
      "Increase the number of iterations (max_iter) or scale the data as shown in:\n",
      "    https://scikit-learn.org/stable/modules/preprocessing.html\n",
      "Please also refer to the documentation for alternative solver options:\n",
      "    https://scikit-learn.org/stable/modules/linear_model.html#logistic-regression\n",
      "  n_iter_i = _check_optimize_result(\n",
      "/Users/macbook/opt/anaconda3/lib/python3.9/site-packages/sklearn/linear_model/_logistic.py:814: ConvergenceWarning: lbfgs failed to converge (status=1):\n",
      "STOP: TOTAL NO. of ITERATIONS REACHED LIMIT.\n",
      "\n",
      "Increase the number of iterations (max_iter) or scale the data as shown in:\n",
      "    https://scikit-learn.org/stable/modules/preprocessing.html\n",
      "Please also refer to the documentation for alternative solver options:\n",
      "    https://scikit-learn.org/stable/modules/linear_model.html#logistic-regression\n",
      "  n_iter_i = _check_optimize_result(\n",
      "/Users/macbook/opt/anaconda3/lib/python3.9/site-packages/sklearn/linear_model/_logistic.py:814: ConvergenceWarning: lbfgs failed to converge (status=1):\n",
      "STOP: TOTAL NO. of ITERATIONS REACHED LIMIT.\n",
      "\n",
      "Increase the number of iterations (max_iter) or scale the data as shown in:\n",
      "    https://scikit-learn.org/stable/modules/preprocessing.html\n",
      "Please also refer to the documentation for alternative solver options:\n",
      "    https://scikit-learn.org/stable/modules/linear_model.html#logistic-regression\n",
      "  n_iter_i = _check_optimize_result(\n",
      "/Users/macbook/opt/anaconda3/lib/python3.9/site-packages/sklearn/linear_model/_logistic.py:814: ConvergenceWarning: lbfgs failed to converge (status=1):\n",
      "STOP: TOTAL NO. of ITERATIONS REACHED LIMIT.\n",
      "\n",
      "Increase the number of iterations (max_iter) or scale the data as shown in:\n",
      "    https://scikit-learn.org/stable/modules/preprocessing.html\n",
      "Please also refer to the documentation for alternative solver options:\n",
      "    https://scikit-learn.org/stable/modules/linear_model.html#logistic-regression\n",
      "  n_iter_i = _check_optimize_result(\n",
      "/Users/macbook/opt/anaconda3/lib/python3.9/site-packages/sklearn/linear_model/_logistic.py:814: ConvergenceWarning: lbfgs failed to converge (status=1):\n",
      "STOP: TOTAL NO. of ITERATIONS REACHED LIMIT.\n",
      "\n",
      "Increase the number of iterations (max_iter) or scale the data as shown in:\n",
      "    https://scikit-learn.org/stable/modules/preprocessing.html\n",
      "Please also refer to the documentation for alternative solver options:\n",
      "    https://scikit-learn.org/stable/modules/linear_model.html#logistic-regression\n",
      "  n_iter_i = _check_optimize_result(\n"
     ]
    }
   ],
   "source": [
    "from sklearn.linear_model import LogisticRegression\n",
    "from sklearn.model_selection import cross_val_score\n",
    "\n",
    "\n",
    "\n",
    "# Train the logistic regression model using cross-validation\n",
    "logreg = LogisticRegression()\n",
    "scores = cross_val_score(logreg, X, y, cv=5)\n",
    "\n",
    "# Print the accuracy scores for each fold and the mean score\n",
    "print(\"Accuracy scores:\", scores)\n",
    "print(\"Mean accuracy score:\", scores.mean()*100,\"%\")"
   ]
  },
  {
   "attachments": {},
   "cell_type": "markdown",
   "metadata": {},
   "source": [
    "Cross-Validation for KNN"
   ]
  },
  {
   "cell_type": "code",
   "execution_count": 1222,
   "metadata": {},
   "outputs": [
    {
     "name": "stdout",
     "output_type": "stream",
     "text": [
      "Accuracy scores: [0.25 0.35 0.15 0.25 0.2 ]\n",
      "Mean accuracy score: 24.0 %\n"
     ]
    },
    {
     "name": "stderr",
     "output_type": "stream",
     "text": [
      "/Users/macbook/opt/anaconda3/lib/python3.9/site-packages/sklearn/model_selection/_split.py:676: UserWarning: The least populated class in y has only 1 members, which is less than n_splits=5.\n",
      "  warnings.warn(\n"
     ]
    }
   ],
   "source": [
    "from sklearn.neighbors import KNeighborsClassifier\n",
    "from sklearn.model_selection import cross_val_score\n",
    "\n",
    "knn = KNeighborsClassifier()\n",
    "scores = cross_val_score(knn, X, y, cv=5)\n",
    "\n",
    "# Print the accuracy scores for each fold and the mean score\n",
    "print(\"Accuracy scores:\", scores)\n",
    "print(\"Mean accuracy score:\", scores.mean()*100,\"%\")"
   ]
  },
  {
   "attachments": {},
   "cell_type": "markdown",
   "metadata": {},
   "source": [
    "Cross-Validation for RandomForestCalssifier"
   ]
  },
  {
   "cell_type": "code",
   "execution_count": 1223,
   "metadata": {},
   "outputs": [
    {
     "name": "stderr",
     "output_type": "stream",
     "text": [
      "/Users/macbook/opt/anaconda3/lib/python3.9/site-packages/sklearn/model_selection/_split.py:676: UserWarning: The least populated class in y has only 1 members, which is less than n_splits=5.\n",
      "  warnings.warn(\n"
     ]
    },
    {
     "name": "stdout",
     "output_type": "stream",
     "text": [
      "Cross-validation scores: [0.75 0.75 0.55 0.55 0.65]\n",
      "Mean accuracy score: 64.99999999999999 %\n"
     ]
    },
    {
     "data": {
      "image/png": "[encoded data removed]",
      "text/plain": [
       "<Figure size 432x288 with 1 Axes>"
      ]
     },
     "metadata": {},
     "output_type": "display_data"
    }
   ],
   "source": [
    "from sklearn.ensemble import RandomForestClassifier\n",
    "from sklearn.model_selection import cross_val_score\n",
    "\n",
    "# Train the random forest classifier using 5-fold cross-validation\n",
    "model = RandomForestClassifier()\n",
    "scores = cross_val_score(model, X, y, cv=5)\n",
    "\n",
    "# Print the cross-validation scores and the mean score\n",
    "print(\"Cross-validation scores:\", scores)\n",
    "print(\"Mean accuracy score:\", scores.mean()*100,\"%\")\n",
    "\n",
    "fig, ax = plt.subplots()\n",
    "ax.scatter(y_test, predictions, alpha=0.5)\n",
    "ax.plot([y_test.min(), y_test.max()], [y_test.min(), y_test.max()], 'k--', lw=4)\n",
    "ax.set_xlabel('Actual')\n",
    "ax.set_ylabel('Predicted')\n",
    "plt.show()"
   ]
  },
  {
   "attachments": {},
   "cell_type": "markdown",
   "metadata": {},
   "source": [
    "Using RandomForesetCalssifier"
   ]
  },
  {
   "cell_type": "code",
   "execution_count": 1224,
   "metadata": {},
   "outputs": [],
   "source": [
    "import pandas as pd\n",
    "from sklearn.ensemble import RandomForestClassifier\n",
    "from sklearn.model_selection import train_test_split\n",
    "\n",
    "X_train, X_test, y_train, y_test = train_test_split(X, y, test_size=0.2)\n",
    "\n",
    "# Train the random forest classifier\n",
    "model = RandomForestClassifier()\n",
    "model.fit(X_train, y_train)\n",
    "\n",
    "accuracy = model.score(X_test, y_test)\n",
    "\n",
    "predictions = model.predict(X_test)\n",
    "\n"
   ]
  },
  {
   "attachments": {},
   "cell_type": "markdown",
   "metadata": {},
   "source": [
    "getProductRecommendation method is to recommend a product for restaurant:\n",
    "- it takes (resutrant id) as input\n",
    "- output will the recommneded product"
   ]
  },
  {
   "cell_type": "code",
   "execution_count": 1225,
   "metadata": {},
   "outputs": [],
   "source": [
    "def getProductRecommendation(rest_id):\n",
    "    #df[['cuisine', 'product_rating', 'restaurant_id', 'product_id']]\n",
    "    rest_info = df.loc[df['restaurant_id'] == rest_id, ['product_id','product_rating','cuisine']]\n",
    "    product_rating = rest_info.iloc[0]['product_rating']\n",
    "    product_id = rest_info.iloc[0]['product_id']\n",
    "    cuisine = rest_info.iloc[0]['cuisine']\n",
    "    predict = model.predict(np.array([[cuisine,product_rating,rest_id,product_id]]))\n",
    "    return(predict)\n",
    "    \n"
   ]
  },
  {
   "cell_type": "code",
   "execution_count": 1226,
   "metadata": {},
   "outputs": [
    {
     "name": "stderr",
     "output_type": "stream",
     "text": [
      "/Users/macbook/opt/anaconda3/lib/python3.9/site-packages/sklearn/base.py:450: UserWarning: X does not have valid feature names, but RandomForestClassifier was fitted with feature names\n",
      "  warnings.warn(\n"
     ]
    },
    {
     "data": {
      "text/plain": [
       "array(['Chicken Breast Halal'], dtype=object)"
      ]
     },
     "execution_count": 1226,
     "metadata": {},
     "output_type": "execute_result"
    }
   ],
   "source": [
    "getProductRecommendation(4)"
   ]
  }
 ],
 "metadata": {
  "kernelspec": {
   "display_name": "base",
   "language": "python",
   "name": "python3"
  },
  "language_info": {
   "codemirror_mode": {
    "name": "ipython",
    "version": 3
   },
   "file_extension": ".py",
   "mimetype": "text/x-python",
   "name": "python",
   "nbconvert_exporter": "python",
   "pygments_lexer": "ipython3",
   "version": "3.9.12"
  },
  "orig_nbformat": 4
 },
 "nbformat": 4,
 "nbformat_minor": 2
}
